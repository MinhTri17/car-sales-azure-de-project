{
 "cells": [
  {
   "cell_type": "code",
   "execution_count": 0,
   "metadata": {
    "application/vnd.databricks.v1+cell": {
     "cellMetadata": {
      "byteLimit": 2048000,
      "rowLimit": 10000
     },
     "inputWidgets": {},
     "nuid": "036af136-ed42-4dde-822c-a00c9eadbf41",
     "showTitle": false,
     "tableResultSettingsMap": {},
     "title": ""
    }
   },
   "outputs": [],
   "source": [
    "from pyspark.sql.functions import col"
   ]
  },
  {
   "cell_type": "code",
   "execution_count": 0,
   "metadata": {
    "application/vnd.databricks.v1+cell": {
     "cellMetadata": {
      "byteLimit": 2048000,
      "rowLimit": 10000
     },
     "inputWidgets": {},
     "nuid": "1d231bf3-4eb8-4a65-b062-25c335c5e0cf",
     "showTitle": false,
     "tableResultSettingsMap": {},
     "title": ""
    }
   },
   "outputs": [],
   "source": [
    "dbutils.widgets.text(\"p_ingestion_date\",\"\")\n",
    "v_ingest_date = dbutils.widgets.get(\"p_ingestion_date\")"
   ]
  },
  {
   "cell_type": "markdown",
   "metadata": {
    "application/vnd.databricks.v1+cell": {
     "cellMetadata": {
      "byteLimit": 2048000,
      "rowLimit": 10000
     },
     "inputWidgets": {},
     "nuid": "b038b7f1-6ed7-46f8-ac70-8c5736130002",
     "showTitle": false,
     "tableResultSettingsMap": {},
     "title": ""
    }
   },
   "source": [
    "# CREATE FACT TABLE"
   ]
  },
  {
   "cell_type": "markdown",
   "metadata": {
    "application/vnd.databricks.v1+cell": {
     "cellMetadata": {
      "byteLimit": 2048000,
      "rowLimit": 10000
     },
     "inputWidgets": {},
     "nuid": "2e79e24d-de4c-4b7b-b879-248ae2703779",
     "showTitle": false,
     "tableResultSettingsMap": {},
     "title": ""
    }
   },
   "source": [
    "**Reading Silver data**"
   ]
  },
  {
   "cell_type": "code",
   "execution_count": 0,
   "metadata": {
    "application/vnd.databricks.v1+cell": {
     "cellMetadata": {
      "byteLimit": 2048000,
      "implicitDf": true,
      "rowLimit": 10000
     },
     "inputWidgets": {},
     "nuid": "0ad82cbf-bedd-4111-9edc-9d9797394397",
     "showTitle": false,
     "tableResultSettingsMap": {},
     "title": ""
    }
   },
   "outputs": [],
   "source": [
    "\n",
    "df_silver = spark.sql(\"SELECT * FROM PARQUET.`abfss://silver@cardeprojectdl.dfs.core.windows.net/carsales`\") \\\n",
    "                .filter(col('ingestion_date') == v_ingest_date)"
   ]
  },
  {
   "cell_type": "code",
   "execution_count": 0,
   "metadata": {
    "application/vnd.databricks.v1+cell": {
     "cellMetadata": {
      "byteLimit": 2048000,
      "rowLimit": 10000
     },
     "inputWidgets": {},
     "nuid": "8daafdd3-2540-41e5-9a42-f8ed4fcf8627",
     "showTitle": false,
     "tableResultSettingsMap": {},
     "title": ""
    }
   },
   "outputs": [],
   "source": [
    "df_silver.display()"
   ]
  },
  {
   "cell_type": "markdown",
   "metadata": {
    "application/vnd.databricks.v1+cell": {
     "cellMetadata": {
      "byteLimit": 2048000,
      "rowLimit": 10000
     },
     "inputWidgets": {},
     "nuid": "b87914c8-92d4-4113-b176-872ea313adb4",
     "showTitle": false,
     "tableResultSettingsMap": {},
     "title": ""
    }
   },
   "source": [
    "**Reading all the DIMS**"
   ]
  },
  {
   "cell_type": "code",
   "execution_count": 0,
   "metadata": {
    "application/vnd.databricks.v1+cell": {
     "cellMetadata": {
      "byteLimit": 2048000,
      "rowLimit": 10000
     },
     "inputWidgets": {},
     "nuid": "b5632273-0d94-4b33-8f4f-cb0949601d77",
     "showTitle": false,
     "tableResultSettingsMap": {},
     "title": ""
    }
   },
   "outputs": [],
   "source": [
    "df_dealer = spark.sql(\"SELECT * FROM cars_catalog.gold.dim_dealer\")\n",
    "df_model = spark.sql(\"SELECT * FROM cars_catalog.gold.dim_model\")\n",
    "df_branch = spark.sql(\"SELECT * FROM cars_catalog.gold.dim_branch\")\n",
    "df_date = spark.sql(\"SELECT * FROM cars_catalog.gold.dim_date\")"
   ]
  },
  {
   "cell_type": "markdown",
   "metadata": {
    "application/vnd.databricks.v1+cell": {
     "cellMetadata": {
      "byteLimit": 2048000,
      "rowLimit": 10000
     },
     "inputWidgets": {},
     "nuid": "dd12c135-ed43-4144-bfd3-bae5ea75c436",
     "showTitle": false,
     "tableResultSettingsMap": {},
     "title": ""
    }
   },
   "source": [
    "**Bringing Keys to the Fact table**"
   ]
  },
  {
   "cell_type": "code",
   "execution_count": 0,
   "metadata": {
    "application/vnd.databricks.v1+cell": {
     "cellMetadata": {
      "byteLimit": 2048000,
      "rowLimit": 10000
     },
     "inputWidgets": {},
     "nuid": "5d5ec64f-fa37-433d-88be-41eee61c0a5c",
     "showTitle": false,
     "tableResultSettingsMap": {},
     "title": ""
    }
   },
   "outputs": [],
   "source": [
    "df_fact = df_silver.join(df_branch, df_silver['Branch_ID'] == df_branch['Branch_ID'],how=\"left\") \\\n",
    "                .join(df_dealer, df_silver['Dealer_ID'] == df_dealer['Dealer_ID'],how=\"left\") \\\n",
    "                .join(df_model, df_silver['Model_ID'] == df_model['Model_ID'],how=\"left\") \\\n",
    "                .join(df_date, df_silver['Date_ID'] == df_date['Date_ID'],how=\"left\") \\\n",
    "                .select(df_silver['Revenue'], df_silver['Units_Sold'], df_silver['RevPerUnit'], df_branch['dim_branch_key'], df_dealer['dim_dealer_key'], df_model['dim_model_key'], df_date['dim_date_key'])"
   ]
  },
  {
   "cell_type": "code",
   "execution_count": 0,
   "metadata": {
    "application/vnd.databricks.v1+cell": {
     "cellMetadata": {
      "byteLimit": 2048000,
      "rowLimit": 10000
     },
     "inputWidgets": {},
     "nuid": "14a1a14b-ca73-4412-a9ed-605e833e7b75",
     "showTitle": false,
     "tableResultSettingsMap": {},
     "title": ""
    }
   },
   "outputs": [],
   "source": [
    "df_fact.display()"
   ]
  },
  {
   "cell_type": "code",
   "execution_count": 0,
   "metadata": {
    "application/vnd.databricks.v1+cell": {
     "cellMetadata": {
      "byteLimit": 2048000,
      "rowLimit": 10000
     },
     "inputWidgets": {},
     "nuid": "81f9cc95-c368-4673-8073-f570b81457b1",
     "showTitle": false,
     "tableResultSettingsMap": {},
     "title": ""
    }
   },
   "outputs": [
    {
     "output_type": "display_data",
     "data": {
      "text/html": [
       "<style scoped>\n",
       "  .table-result-container {\n",
       "    max-height: 300px;\n",
       "    overflow: auto;\n",
       "  }\n",
       "  table, th, td {\n",
       "    border: 1px solid black;\n",
       "    border-collapse: collapse;\n",
       "  }\n",
       "  th, td {\n",
       "    padding: 5px;\n",
       "  }\n",
       "  th {\n",
       "    text-align: left;\n",
       "  }\n",
       "</style><div class='table-result-container'><table class='table-result'><thead style='background-color: white'><tr><th>Revenue</th><th>Units_Sold</th><th>RevPerUnit</th><th>dim_date_key</th><th>dim_dealer_key</th><th>dim_model_key</th><th>dim_branch_key</th></tr></thead><tbody><tr><td>40</td><td>47</td><td>76</td><td>70</td><td>82</td><td>82</td><td>87</td></tr><tr><td>96</td><td>7</td><td>35</td><td>81</td><td>87</td><td>66</td><td>25</td></tr><tr><td>99</td><td>45</td><td>7</td><td>75</td><td>54</td><td>26</td><td>56</td></tr><tr><td>25</td><td>54</td><td>95</td><td>13</td><td>65</td><td>83</td><td>74</td></tr><tr><td>12</td><td>66</td><td>58</td><td>94</td><td>67</td><td>20</td><td>67</td></tr><tr><td>83</td><td>88</td><td>19</td><td>88</td><td>22</td><td>54</td><td>6</td></tr><tr><td>83</td><td>30</td><td>17</td><td>31</td><td>69</td><td>66</td><td>99</td></tr><tr><td>32</td><td>3</td><td>33</td><td>54</td><td>90</td><td>64</td><td>63</td></tr><tr><td>2</td><td>49</td><td>52</td><td>75</td><td>69</td><td>13</td><td>85</td></tr><tr><td>62</td><td>33</td><td>61</td><td>52</td><td>61</td><td>81</td><td>76</td></tr></tbody></table></div>"
      ]
     },
     "metadata": {
      "application/vnd.databricks.v1+output": {
       "addedWidgets": {},
       "aggData": [],
       "aggError": "",
       "aggOverflow": false,
       "aggSchema": [],
       "aggSeriesLimitReached": false,
       "aggType": "",
       "arguments": {},
       "columnCustomDisplayInfos": {},
       "data": [
        [
         40,
         47,
         76,
         70,
         82,
         82,
         87
        ],
        [
         96,
         7,
         35,
         81,
         87,
         66,
         25
        ],
        [
         99,
         45,
         7,
         75,
         54,
         26,
         56
        ],
        [
         25,
         54,
         95,
         13,
         65,
         83,
         74
        ],
        [
         12,
         66,
         58,
         94,
         67,
         20,
         67
        ],
        [
         83,
         88,
         19,
         88,
         22,
         54,
         6
        ],
        [
         83,
         30,
         17,
         31,
         69,
         66,
         99
        ],
        [
         32,
         3,
         33,
         54,
         90,
         64,
         63
        ],
        [
         2,
         49,
         52,
         75,
         69,
         13,
         85
        ],
        [
         62,
         33,
         61,
         52,
         61,
         81,
         76
        ]
       ],
       "datasetInfos": [],
       "dbfsResultPath": null,
       "isJsonSchema": true,
       "metadata": {},
       "overflow": false,
       "plotOptions": {
        "customPlotOptions": {},
        "displayType": "table",
        "pivotAggregation": null,
        "pivotColumns": null,
        "xColumns": null,
        "yColumns": null
       },
       "removedWidgets": [],
       "schema": [
        {
         "metadata": "{}",
         "name": "Revenue",
         "type": "\"integer\""
        },
        {
         "metadata": "{}",
         "name": "Units_Sold",
         "type": "\"integer\""
        },
        {
         "metadata": "{}",
         "name": "RevPerUnit",
         "type": "\"integer\""
        },
        {
         "metadata": "{}",
         "name": "dim_date_key",
         "type": "\"integer\""
        },
        {
         "metadata": "{}",
         "name": "dim_dealer_key",
         "type": "\"integer\""
        },
        {
         "metadata": "{}",
         "name": "dim_model_key",
         "type": "\"integer\""
        },
        {
         "metadata": "{}",
         "name": "dim_branch_key",
         "type": "\"integer\""
        }
       ],
       "type": "table"
      }
     },
     "output_type": "display_data"
    }
   ],
   "source": [
    "# from pyspark.sql import functions as F\n",
    "# from pyspark.sql.types import IntegerType, StringType, DoubleType, DateType, StructType, StructField\n",
    "# import random\n",
    "# from datetime import datetime\n",
    "\n",
    "# # Define schema\n",
    "# schema = StructType([\n",
    "  \n",
    "#     StructField(\"Revenue\", IntegerType(), True),\n",
    "#     StructField(\"Units_Sold\", IntegerType(), True),\n",
    "#     StructField(\"RevPerUnit\", IntegerType(), True),\n",
    "#     StructField(\"dim_date_key\", IntegerType(), True),\n",
    "#     StructField(\"dim_dealer_key\", IntegerType(), True),\n",
    "#     StructField(\"dim_model_key\", IntegerType(), True),\n",
    "#     StructField(\"dim_branch_key\", IntegerType(), True),\n",
    "    \n",
    "# ])\n",
    "\n",
    "# # Generate random data\n",
    "# data = [\n",
    "#     (\n",
    "#         random.randint(1, 100),  # Branch_ID\n",
    "#         random.randint(1, 100),  # Dealer_ID\n",
    "#         random.randint(1, 100),  # Model_ID\n",
    "#         random.randint(1, 100),  # Units_Sold\n",
    "#         random.randint(1, 100),  # Units_Sold\n",
    "#         random.randint(1, 100),  # Branch_ID\n",
    "#         random.randint(1, 100)  # Branch_ID\n",
    "\n",
    "\n",
    "#     )\n",
    "#     for _ in range(10)\n",
    "# ]\n",
    "\n",
    "# # Create DataFrame\n",
    "# df_fact = spark.createDataFrame(data, schema)\n",
    "\n",
    "# # Display the DataFrame\n",
    "# display(df_fact)"
   ]
  },
  {
   "cell_type": "markdown",
   "metadata": {
    "application/vnd.databricks.v1+cell": {
     "cellMetadata": {
      "byteLimit": 2048000,
      "rowLimit": 10000
     },
     "inputWidgets": {},
     "nuid": "acc8fc6b-8646-47f7-85bd-67f0418f43bd",
     "showTitle": false,
     "tableResultSettingsMap": {},
     "title": ""
    }
   },
   "source": [
    "### Writing Fact table"
   ]
  },
  {
   "cell_type": "code",
   "execution_count": 0,
   "metadata": {
    "application/vnd.databricks.v1+cell": {
     "cellMetadata": {
      "byteLimit": 2048000,
      "rowLimit": 10000
     },
     "inputWidgets": {},
     "nuid": "e8f816c9-b658-418f-8f29-b69bce1e492b",
     "showTitle": false,
     "tableResultSettingsMap": {},
     "title": ""
    }
   },
   "outputs": [],
   "source": [
    "from delta.tables import DeltaTable\n",
    "from pyspark.sql.functions import current_timestamp,lit"
   ]
  },
  {
   "cell_type": "code",
   "execution_count": 0,
   "metadata": {
    "application/vnd.databricks.v1+cell": {
     "cellMetadata": {
      "byteLimit": 2048000,
      "implicitDf": true,
      "rowLimit": 10000
     },
     "inputWidgets": {},
     "nuid": "2d23a5d0-e0f4-43d1-801e-9905e23314a6",
     "showTitle": false,
     "tableResultSettingsMap": {},
     "title": ""
    }
   },
   "outputs": [
    {
     "output_type": "display_data",
     "data": {
      "text/html": [
       "<style scoped>\n",
       "  .table-result-container {\n",
       "    max-height: 300px;\n",
       "    overflow: auto;\n",
       "  }\n",
       "  table, th, td {\n",
       "    border: 1px solid black;\n",
       "    border-collapse: collapse;\n",
       "  }\n",
       "  th, td {\n",
       "    padding: 5px;\n",
       "  }\n",
       "  th {\n",
       "    text-align: left;\n",
       "  }\n",
       "</style><div class='table-result-container'><table class='table-result'><thead style='background-color: white'><tr></tr></thead><tbody></tbody></table></div>"
      ]
     },
     "metadata": {
      "application/vnd.databricks.v1+output": {
       "addedWidgets": {},
       "aggData": [],
       "aggError": "",
       "aggOverflow": false,
       "aggSchema": [],
       "aggSeriesLimitReached": false,
       "aggType": "",
       "arguments": {},
       "columnCustomDisplayInfos": {},
       "data": [],
       "datasetInfos": [],
       "dbfsResultPath": null,
       "isJsonSchema": true,
       "metadata": {
        "dataframeName": null
       },
       "overflow": false,
       "plotOptions": {
        "customPlotOptions": {},
        "displayType": "table",
        "pivotAggregation": null,
        "pivotColumns": null,
        "xColumns": null,
        "yColumns": null
       },
       "removedWidgets": [],
       "schema": [],
       "type": "table"
      }
     },
     "output_type": "display_data"
    }
   ],
   "source": [
    "# %sql\n",
    "# DROP TABLE cars_catalog.gold.fact_sales"
   ]
  },
  {
   "cell_type": "code",
   "execution_count": 0,
   "metadata": {
    "application/vnd.databricks.v1+cell": {
     "cellMetadata": {
      "byteLimit": 2048000,
      "rowLimit": 10000
     },
     "inputWidgets": {},
     "nuid": "e65b7a9b-235b-4ce3-ac55-81e4500aa858",
     "showTitle": false,
     "tableResultSettingsMap": {},
     "title": ""
    }
   },
   "outputs": [],
   "source": [
    "cur_time_str = spark.sql(\"SELECT current_timestamp()\").collect()[0][0].strftime(\"%Y-%m-%d %H:%M:%S.%f\")\n",
    "\n",
    "if spark.catalog.tableExists(\"cars_catalog.gold.fact_sales\"):\n",
    "    delta_table = DeltaTable.forName(spark, \"cars_catalog.gold.fact_sales\")\n",
    "    delta_table.alias('tgt').merge(df_fact.alias('src'), 'tgt.dim_model_key = src.dim_model_key and tgt.dim_dealer_key = src.dim_dealer_key and tgt.dim_branch_key = src.dim_branch_key and tgt.dim_date_key = src.dim_date_key')\\\n",
    "            .whenMatchedUpdate(set= {\n",
    "                \"Revenue\":\"src.Revenue\",\n",
    "                \"Units_Sold\" : \"src.Units_Sold\",\n",
    "                \"RevPerUnit\" : \"src.RevPerUnit\",\n",
    "                \"updated_at\" : f\"'{cur_time_str}'\"\n",
    "\n",
    "            }) \\\n",
    "            .whenNotMatchedInsert(values = {\n",
    "                \"Revenue\":\"src.Revenue\",\n",
    "                \"Units_Sold\" : \"src.Units_Sold\",\n",
    "                \"RevPerUnit\" : \"src.RevPerUnit\",\n",
    "                \"updated_at\" : f\"'{cur_time_str}'\",\n",
    "                \"dim_branch_key\" : \"src.dim_branch_key\",\n",
    "                \"dim_dealer_key\" : \"src.dim_dealer_key\",\n",
    "                \"dim_model_key\" : \"src.dim_model_key\",\n",
    "                \"dim_date_key\" : \"src.dim_date_key\"\n",
    "            }) \\\n",
    "            .execute()\n",
    "\n",
    "    spark.sql(f\"\"\"\n",
    "            UPDATE cars_catalog.default.metadata_table\n",
    "            SET last_updated_time = '{cur_time_str}'\n",
    "            WHERE table_name = \"fact_sales\"       \n",
    "            \"\"\")\n",
    "else:\n",
    "    df_fact = df_fact.withColumn(\"updated_at\", lit(cur_time_str))\n",
    "    df_fact.write.mode(\"overwrite\").format(\"delta\").option(\"path\",\"abfss://gold@cardeprojectdl.dfs.core.windows.net/fact_sales\").saveAsTable('cars_catalog.gold.fact_sales')\n",
    "\n",
    "    spark.sql(f\"\"\"\n",
    "              INSERT INTO cars_catalog.default.metadata_table\n",
    "              VALUES (\"fact_sales\", '{cur_time_str}')\n",
    "              \"\"\")"
   ]
  },
  {
   "cell_type": "code",
   "execution_count": 0,
   "metadata": {
    "application/vnd.databricks.v1+cell": {
     "cellMetadata": {
      "byteLimit": 2048000,
      "implicitDf": true,
      "rowLimit": 10000
     },
     "inputWidgets": {},
     "nuid": "10842ab6-6800-4400-9d30-4680625a4a59",
     "showTitle": false,
     "tableResultSettingsMap": {},
     "title": ""
    }
   },
   "outputs": [
    {
     "output_type": "display_data",
     "data": {
      "text/html": [
       "<style scoped>\n",
       "  .table-result-container {\n",
       "    max-height: 300px;\n",
       "    overflow: auto;\n",
       "  }\n",
       "  table, th, td {\n",
       "    border: 1px solid black;\n",
       "    border-collapse: collapse;\n",
       "  }\n",
       "  th, td {\n",
       "    padding: 5px;\n",
       "  }\n",
       "  th {\n",
       "    text-align: left;\n",
       "  }\n",
       "</style><div class='table-result-container'><table class='table-result'><thead style='background-color: white'><tr><th>Revenue</th><th>Units_Sold</th><th>RevPerUnit</th><th>dim_date_key</th><th>dim_dealer_key</th><th>dim_model_key</th><th>dim_branch_key</th><th>updated_at</th></tr></thead><tbody><tr><td>83</td><td>30</td><td>17</td><td>31</td><td>69</td><td>66</td><td>99</td><td>2025-05-06 10:58:50.530000</td></tr><tr><td>32</td><td>3</td><td>33</td><td>54</td><td>90</td><td>64</td><td>63</td><td>2025-05-06 10:58:50.530000</td></tr><tr><td>2</td><td>49</td><td>52</td><td>75</td><td>69</td><td>13</td><td>85</td><td>2025-05-06 10:58:50.530000</td></tr><tr><td>62</td><td>33</td><td>61</td><td>52</td><td>61</td><td>81</td><td>76</td><td>2025-05-06 10:58:50.530000</td></tr><tr><td>95</td><td>24</td><td>94</td><td>27</td><td>62</td><td>57</td><td>89</td><td>2025-05-06 10:57:01.617000</td></tr><tr><td>6</td><td>69</td><td>1</td><td>100</td><td>58</td><td>91</td><td>83</td><td>2025-05-06 10:57:01.617000</td></tr><tr><td>23</td><td>72</td><td>63</td><td>15</td><td>93</td><td>76</td><td>84</td><td>2025-05-06 10:57:01.617000</td></tr><tr><td>30</td><td>65</td><td>9</td><td>47</td><td>69</td><td>81</td><td>42</td><td>2025-05-06 10:57:01.617000</td></tr><tr><td>39</td><td>33</td><td>97</td><td>8</td><td>72</td><td>78</td><td>65</td><td>2025-05-06 10:57:01.617000</td></tr><tr><td>83</td><td>5</td><td>64</td><td>79</td><td>98</td><td>40</td><td>67</td><td>2025-05-06 10:57:01.617000</td></tr><tr><td>87</td><td>13</td><td>10</td><td>2</td><td>83</td><td>98</td><td>5</td><td>2025-05-06 10:57:01.617000</td></tr><tr><td>67</td><td>100</td><td>7</td><td>69</td><td>25</td><td>59</td><td>89</td><td>2025-05-06 10:57:01.617000</td></tr><tr><td>99</td><td>45</td><td>7</td><td>75</td><td>54</td><td>26</td><td>56</td><td>2025-05-06 10:58:50.530000</td></tr><tr><td>25</td><td>54</td><td>95</td><td>13</td><td>65</td><td>83</td><td>74</td><td>2025-05-06 10:58:50.530000</td></tr><tr><td>12</td><td>66</td><td>58</td><td>94</td><td>67</td><td>20</td><td>67</td><td>2025-05-06 10:58:50.530000</td></tr><tr><td>83</td><td>88</td><td>19</td><td>88</td><td>22</td><td>54</td><td>6</td><td>2025-05-06 10:58:50.530000</td></tr><tr><td>36</td><td>29</td><td>4</td><td>49</td><td>22</td><td>5</td><td>50</td><td>2025-05-06 10:57:01.617000</td></tr><tr><td>53</td><td>68</td><td>41</td><td>73</td><td>41</td><td>71</td><td>92</td><td>2025-05-06 10:57:01.617000</td></tr><tr><td>40</td><td>47</td><td>76</td><td>70</td><td>82</td><td>82</td><td>87</td><td>2025-05-06 10:58:50.530000</td></tr><tr><td>96</td><td>7</td><td>35</td><td>81</td><td>87</td><td>66</td><td>25</td><td>2025-05-06 10:58:50.530000</td></tr></tbody></table></div>"
      ]
     },
     "metadata": {
      "application/vnd.databricks.v1+output": {
       "addedWidgets": {},
       "aggData": [],
       "aggError": "",
       "aggOverflow": false,
       "aggSchema": [],
       "aggSeriesLimitReached": false,
       "aggType": "",
       "arguments": {},
       "columnCustomDisplayInfos": {},
       "data": [
        [
         83,
         30,
         17,
         31,
         69,
         66,
         99,
         "2025-05-06 10:58:50.530000"
        ],
        [
         32,
         3,
         33,
         54,
         90,
         64,
         63,
         "2025-05-06 10:58:50.530000"
        ],
        [
         2,
         49,
         52,
         75,
         69,
         13,
         85,
         "2025-05-06 10:58:50.530000"
        ],
        [
         62,
         33,
         61,
         52,
         61,
         81,
         76,
         "2025-05-06 10:58:50.530000"
        ],
        [
         95,
         24,
         94,
         27,
         62,
         57,
         89,
         "2025-05-06 10:57:01.617000"
        ],
        [
         6,
         69,
         1,
         100,
         58,
         91,
         83,
         "2025-05-06 10:57:01.617000"
        ],
        [
         23,
         72,
         63,
         15,
         93,
         76,
         84,
         "2025-05-06 10:57:01.617000"
        ],
        [
         30,
         65,
         9,
         47,
         69,
         81,
         42,
         "2025-05-06 10:57:01.617000"
        ],
        [
         39,
         33,
         97,
         8,
         72,
         78,
         65,
         "2025-05-06 10:57:01.617000"
        ],
        [
         83,
         5,
         64,
         79,
         98,
         40,
         67,
         "2025-05-06 10:57:01.617000"
        ],
        [
         87,
         13,
         10,
         2,
         83,
         98,
         5,
         "2025-05-06 10:57:01.617000"
        ],
        [
         67,
         100,
         7,
         69,
         25,
         59,
         89,
         "2025-05-06 10:57:01.617000"
        ],
        [
         99,
         45,
         7,
         75,
         54,
         26,
         56,
         "2025-05-06 10:58:50.530000"
        ],
        [
         25,
         54,
         95,
         13,
         65,
         83,
         74,
         "2025-05-06 10:58:50.530000"
        ],
        [
         12,
         66,
         58,
         94,
         67,
         20,
         67,
         "2025-05-06 10:58:50.530000"
        ],
        [
         83,
         88,
         19,
         88,
         22,
         54,
         6,
         "2025-05-06 10:58:50.530000"
        ],
        [
         36,
         29,
         4,
         49,
         22,
         5,
         50,
         "2025-05-06 10:57:01.617000"
        ],
        [
         53,
         68,
         41,
         73,
         41,
         71,
         92,
         "2025-05-06 10:57:01.617000"
        ],
        [
         40,
         47,
         76,
         70,
         82,
         82,
         87,
         "2025-05-06 10:58:50.530000"
        ],
        [
         96,
         7,
         35,
         81,
         87,
         66,
         25,
         "2025-05-06 10:58:50.530000"
        ]
       ],
       "datasetInfos": [],
       "dbfsResultPath": null,
       "isJsonSchema": true,
       "metadata": {
        "createTempViewForImplicitDf": true,
        "dataframeName": "_sqldf",
        "executionCount": 28
       },
       "overflow": false,
       "plotOptions": {
        "customPlotOptions": {},
        "displayType": "table",
        "pivotAggregation": null,
        "pivotColumns": null,
        "xColumns": null,
        "yColumns": null
       },
       "removedWidgets": [],
       "schema": [
        {
         "metadata": "{}",
         "name": "Revenue",
         "type": "\"integer\""
        },
        {
         "metadata": "{}",
         "name": "Units_Sold",
         "type": "\"integer\""
        },
        {
         "metadata": "{}",
         "name": "RevPerUnit",
         "type": "\"integer\""
        },
        {
         "metadata": "{}",
         "name": "dim_date_key",
         "type": "\"integer\""
        },
        {
         "metadata": "{}",
         "name": "dim_dealer_key",
         "type": "\"integer\""
        },
        {
         "metadata": "{}",
         "name": "dim_model_key",
         "type": "\"integer\""
        },
        {
         "metadata": "{}",
         "name": "dim_branch_key",
         "type": "\"integer\""
        },
        {
         "metadata": "{}",
         "name": "updated_at",
         "type": "\"string\""
        }
       ],
       "type": "table"
      }
     },
     "output_type": "display_data"
    }
   ],
   "source": [
    "%sql\n",
    "SELECT * \n",
    "FROM cars_catalog.gold.fact_sales;"
   ]
  }
 ],
 "metadata": {
  "application/vnd.databricks.v1+notebook": {
   "computePreferences": null,
   "dashboards": [],
   "environmentMetadata": {
    "base_environment": "",
    "environment_version": "2"
   },
   "inputWidgetPreferences": null,
   "language": "python",
   "notebookMetadata": {
    "mostRecentlyExecutedCommandWithImplicitDF": {
     "commandId": 3264902681140570,
     "dataframes": [
      "_sqldf"
     ]
    },
    "pythonIndentUnit": 4
   },
   "notebookName": "gold_fact_sales",
   "widgets": {
    "ingestion_date": {
     "currentValue": "2025-04-30",
     "nuid": "00fd614f-b40b-4972-a988-41e2037336ba",
     "typedWidgetInfo": {
      "autoCreated": false,
      "defaultValue": "",
      "label": null,
      "name": "ingestion_date",
      "options": {
       "widgetDisplayType": "Text",
       "validationRegex": null
      },
      "parameterDataType": "String"
     },
     "widgetInfo": {
      "widgetType": "text",
      "defaultValue": "",
      "label": null,
      "name": "ingestion_date",
      "options": {
       "widgetType": "text",
       "autoCreated": null,
       "validationRegex": null
      }
     }
    }
   }
  },
  "language_info": {
   "name": "python"
  }
 },
 "nbformat": 4,
 "nbformat_minor": 0
}