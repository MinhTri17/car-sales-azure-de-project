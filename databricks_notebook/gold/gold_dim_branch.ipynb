{
 "cells": [
  {
   "cell_type": "code",
   "execution_count": 0,
   "metadata": {
    "application/vnd.databricks.v1+cell": {
     "cellMetadata": {
      "byteLimit": 2048000,
      "rowLimit": 10000
     },
     "inputWidgets": {},
     "nuid": "b0c1711e-6a02-4e14-a2fa-db2524c1d331",
     "showTitle": false,
     "tableResultSettingsMap": {},
     "title": ""
    }
   },
   "outputs": [],
   "source": [
    "from pyspark.sql.functions import col, monotonically_increasing_id\n",
    "from pyspark.sql.types import *\n",
    "from delta.tables import DeltaTable"
   ]
  },
  {
   "cell_type": "markdown",
   "metadata": {
    "application/vnd.databricks.v1+cell": {
     "cellMetadata": {
      "byteLimit": 2048000,
      "rowLimit": 10000
     },
     "inputWidgets": {},
     "nuid": "a20160a1-1110-4ef0-8d99-6deb2618a6df",
     "showTitle": false,
     "tableResultSettingsMap": {},
     "title": ""
    }
   },
   "source": [
    "# Create Flag Parameter"
   ]
  },
  {
   "cell_type": "code",
   "execution_count": 0,
   "metadata": {
    "application/vnd.databricks.v1+cell": {
     "cellMetadata": {
      "byteLimit": 2048000,
      "rowLimit": 10000
     },
     "inputWidgets": {},
     "nuid": "a2c68893-cd90-4535-ab02-6b14cc289e85",
     "showTitle": false,
     "tableResultSettingsMap": {},
     "title": ""
    }
   },
   "outputs": [],
   "source": [
    "dbutils.widgets.text(\"p_incremental_flag\",\"\")\n",
    "v_incre_flag = dbutils.widgets.get(\"p_incremental_flag\")"
   ]
  },
  {
   "cell_type": "code",
   "execution_count": 0,
   "metadata": {
    "application/vnd.databricks.v1+cell": {
     "cellMetadata": {
      "byteLimit": 2048000,
      "rowLimit": 10000
     },
     "inputWidgets": {},
     "nuid": "b2d1e31d-65c1-4fed-9178-345d97f2baba",
     "showTitle": false,
     "tableResultSettingsMap": {},
     "title": ""
    }
   },
   "outputs": [],
   "source": [
    "dbutils.widgets.text(\"p_ingestion_date\",\"\")\n",
    "v_ingest_date = dbutils.widgets.get(\"p_ingestion_date\")"
   ]
  },
  {
   "cell_type": "markdown",
   "metadata": {
    "application/vnd.databricks.v1+cell": {
     "cellMetadata": {
      "byteLimit": 2048000,
      "rowLimit": 10000
     },
     "inputWidgets": {},
     "nuid": "bed620c2-0e84-4c4b-82a4-c0ff47039970",
     "showTitle": false,
     "tableResultSettingsMap": {},
     "title": ""
    }
   },
   "source": [
    "# Create DIMENSIONS MODEL"
   ]
  },
  {
   "cell_type": "markdown",
   "metadata": {
    "application/vnd.databricks.v1+cell": {
     "cellMetadata": {
      "byteLimit": 2048000,
      "rowLimit": 10000
     },
     "inputWidgets": {},
     "nuid": "da288f1b-2f5d-4a72-b6dc-06b4029613e4",
     "showTitle": false,
     "tableResultSettingsMap": {},
     "title": ""
    }
   },
   "source": [
    "### Fetch Relative Columns"
   ]
  },
  {
   "cell_type": "code",
   "execution_count": 0,
   "metadata": {
    "application/vnd.databricks.v1+cell": {
     "cellMetadata": {
      "byteLimit": 2048000,
      "implicitDf": true,
      "rowLimit": 10000
     },
     "inputWidgets": {},
     "nuid": "397af9f8-0e67-451c-b337-0b7a292764fc",
     "showTitle": false,
     "tableResultSettingsMap": {},
     "title": ""
    }
   },
   "outputs": [],
   "source": [
    "df_src = spark.sql(f\"\"\"\n",
    "SELECT DISTINCT(Branch_ID) as Branch_ID, BranchName, ingestion_date\n",
    "FROM PARQUET.`abfss://silver@cardeprojectdl.dfs.core.windows.net/carsales`\n",
    "WHERE ingestion_date = '{v_ingest_date}'\n",
    "\"\"\")"
   ]
  },
  {
   "cell_type": "code",
   "execution_count": 0,
   "metadata": {
    "application/vnd.databricks.v1+cell": {
     "cellMetadata": {
      "byteLimit": 2048000,
      "rowLimit": 10000
     },
     "inputWidgets": {},
     "nuid": "f84adab2-b2e5-4d0d-977c-c7c156e8b45f",
     "showTitle": false,
     "tableResultSettingsMap": {},
     "title": ""
    }
   },
   "outputs": [
    {
     "output_type": "display_data",
     "data": {
      "text/html": [
       "<style scoped>\n",
       "  .table-result-container {\n",
       "    max-height: 300px;\n",
       "    overflow: auto;\n",
       "  }\n",
       "  table, th, td {\n",
       "    border: 1px solid black;\n",
       "    border-collapse: collapse;\n",
       "  }\n",
       "  th, td {\n",
       "    padding: 5px;\n",
       "  }\n",
       "  th {\n",
       "    text-align: left;\n",
       "  }\n",
       "</style><div class='table-result-container'><table class='table-result'><thead style='background-color: white'><tr><th>Branch_ID</th><th>BranchName</th><th>ingestion_date</th></tr></thead><tbody><tr><td>BR9546</td><td>Premier Motors</td><td>2025-05-01</td></tr><tr><td>BR9666</td><td>Puma Motors</td><td>2025-05-01</td></tr><tr><td>XYZ9726</td><td>DataFam Motors</td><td>2025-05-01</td></tr><tr><td>BR9726</td><td>Power Ranger Motors</td><td>2025-05-01</td></tr></tbody></table></div>"
      ]
     },
     "metadata": {
      "application/vnd.databricks.v1+output": {
       "addedWidgets": {},
       "aggData": [],
       "aggError": "",
       "aggOverflow": false,
       "aggSchema": [],
       "aggSeriesLimitReached": false,
       "aggType": "",
       "arguments": {},
       "columnCustomDisplayInfos": {},
       "data": [
        [
         "BR9546",
         "Premier Motors",
         "2025-05-01"
        ],
        [
         "BR9666",
         "Puma Motors",
         "2025-05-01"
        ],
        [
         "XYZ9726",
         "DataFam Motors",
         "2025-05-01"
        ],
        [
         "BR9726",
         "Power Ranger Motors",
         "2025-05-01"
        ]
       ],
       "datasetInfos": [],
       "dbfsResultPath": null,
       "isJsonSchema": true,
       "metadata": {},
       "overflow": false,
       "plotOptions": {
        "customPlotOptions": {},
        "displayType": "table",
        "pivotAggregation": null,
        "pivotColumns": null,
        "xColumns": null,
        "yColumns": null
       },
       "removedWidgets": [],
       "schema": [
        {
         "metadata": "{}",
         "name": "Branch_ID",
         "type": "\"string\""
        },
        {
         "metadata": "{}",
         "name": "BranchName",
         "type": "\"string\""
        },
        {
         "metadata": "{}",
         "name": "ingestion_date",
         "type": "\"string\""
        }
       ],
       "type": "table"
      }
     },
     "output_type": "display_data"
    }
   ],
   "source": [
    "df_src.display()"
   ]
  },
  {
   "cell_type": "markdown",
   "metadata": {
    "application/vnd.databricks.v1+cell": {
     "cellMetadata": {
      "byteLimit": 2048000,
      "rowLimit": 10000
     },
     "inputWidgets": {},
     "nuid": "33bc641f-5c76-4c6b-b239-bc9ece85a761",
     "showTitle": false,
     "tableResultSettingsMap": {},
     "title": ""
    }
   },
   "source": [
    "### dim_model Sink - Initial and Incremental"
   ]
  },
  {
   "cell_type": "code",
   "execution_count": 0,
   "metadata": {
    "application/vnd.databricks.v1+cell": {
     "cellMetadata": {
      "byteLimit": 2048000,
      "rowLimit": 10000
     },
     "inputWidgets": {},
     "nuid": "7ce7bca8-770e-44d8-9d40-bca03db8ae50",
     "showTitle": false,
     "tableResultSettingsMap": {},
     "title": ""
    }
   },
   "outputs": [],
   "source": [
    "if spark.catalog.tableExists('cars_catalog.gold.dim_branch'): # incremental\n",
    "    # df_sink = spark.sql('''\n",
    "    #                 SELECT dim_branch_key, Branch_ID, BranchName\n",
    "    #                 from PARQUET.`abfss://silver@cardeprojectdl.dfs.core.windows.net/carsales`\n",
    "    #                 ''')\n",
    "    df_sink = spark.sql('''\n",
    "                    SELECT *\n",
    "                    FROM DELTA.`abfss://gold@cardeprojectdl.dfs.core.windows.net/dim_branch`\n",
    "                    ''')\n",
    "\n",
    "else: # initial\n",
    "    df_sink = spark.sql('''\n",
    "                        SELECT 1 as dim_branch_key, CAST(NULL AS TIMESTAMP) as updated_at, Branch_ID, BranchName\n",
    "                        from PARQUET.`abfss://silver@cardeprojectdl.dfs.core.windows.net/carsales`\n",
    "                        WHERE 1=0\n",
    "                        ''')"
   ]
  },
  {
   "cell_type": "code",
   "execution_count": 0,
   "metadata": {
    "application/vnd.databricks.v1+cell": {
     "cellMetadata": {
      "byteLimit": 2048000,
      "rowLimit": 10000
     },
     "inputWidgets": {},
     "nuid": "a0d17db4-f6cb-4bf1-b1f8-dacf2a9692bc",
     "showTitle": false,
     "tableResultSettingsMap": {},
     "title": ""
    }
   },
   "outputs": [],
   "source": [
    "df_sink.display()"
   ]
  },
  {
   "cell_type": "markdown",
   "metadata": {
    "application/vnd.databricks.v1+cell": {
     "cellMetadata": {
      "byteLimit": 2048000,
      "rowLimit": 10000
     },
     "inputWidgets": {},
     "nuid": "26717675-2f3e-4085-870f-828728ef6397",
     "showTitle": false,
     "tableResultSettingsMap": {},
     "title": ""
    }
   },
   "source": [
    "### Filtering new records and old records"
   ]
  },
  {
   "cell_type": "code",
   "execution_count": 0,
   "metadata": {
    "application/vnd.databricks.v1+cell": {
     "cellMetadata": {
      "byteLimit": 2048000,
      "rowLimit": 10000
     },
     "inputWidgets": {},
     "nuid": "c89a8fc8-0045-4a65-9b04-feeece0fca7c",
     "showTitle": false,
     "tableResultSettingsMap": {},
     "title": ""
    }
   },
   "outputs": [],
   "source": [
    "df_filter = df_src.join(df_sink, df_src['Branch_ID'] == df_sink['Branch_ID'], how='left') \\\n",
    "      .select(df_src['Branch_ID'], df_src['BranchName'], df_sink['updated_at'], df_sink['dim_branch_key'])"
   ]
  },
  {
   "cell_type": "code",
   "execution_count": 0,
   "metadata": {
    "application/vnd.databricks.v1+cell": {
     "cellMetadata": {
      "byteLimit": 2048000,
      "rowLimit": 10000
     },
     "inputWidgets": {},
     "nuid": "46bdd2a2-df5c-47df-88f2-235a91b16f15",
     "showTitle": false,
     "tableResultSettingsMap": {},
     "title": ""
    }
   },
   "outputs": [
    {
     "output_type": "display_data",
     "data": {
      "text/html": [
       "<style scoped>\n",
       "  .table-result-container {\n",
       "    max-height: 300px;\n",
       "    overflow: auto;\n",
       "  }\n",
       "  table, th, td {\n",
       "    border: 1px solid black;\n",
       "    border-collapse: collapse;\n",
       "  }\n",
       "  th, td {\n",
       "    padding: 5px;\n",
       "  }\n",
       "  th {\n",
       "    text-align: left;\n",
       "  }\n",
       "</style><div class='table-result-container'><table class='table-result'><thead style='background-color: white'><tr><th>Branch_ID</th><th>BranchName</th><th>updated_at</th><th>dim_branch_key</th></tr></thead><tbody><tr><td>BR9546</td><td>Premier Motors</td><td>null</td><td>null</td></tr><tr><td>BR9666</td><td>Puma Motors</td><td>null</td><td>null</td></tr><tr><td>XYZ9726</td><td>DataFam Motors</td><td>null</td><td>null</td></tr><tr><td>BR9726</td><td>Power Ranger Motors</td><td>null</td><td>null</td></tr></tbody></table></div>"
      ]
     },
     "metadata": {
      "application/vnd.databricks.v1+output": {
       "addedWidgets": {},
       "aggData": [],
       "aggError": "",
       "aggOverflow": false,
       "aggSchema": [],
       "aggSeriesLimitReached": false,
       "aggType": "",
       "arguments": {},
       "columnCustomDisplayInfos": {},
       "data": [
        [
         "BR9546",
         "Premier Motors",
         null,
         null
        ],
        [
         "BR9666",
         "Puma Motors",
         null,
         null
        ],
        [
         "XYZ9726",
         "DataFam Motors",
         null,
         null
        ],
        [
         "BR9726",
         "Power Ranger Motors",
         null,
         null
        ]
       ],
       "datasetInfos": [],
       "dbfsResultPath": null,
       "isJsonSchema": true,
       "metadata": {},
       "overflow": false,
       "plotOptions": {
        "customPlotOptions": {},
        "displayType": "table",
        "pivotAggregation": null,
        "pivotColumns": null,
        "xColumns": null,
        "yColumns": null
       },
       "removedWidgets": [],
       "schema": [
        {
         "metadata": "{}",
         "name": "Branch_ID",
         "type": "\"string\""
        },
        {
         "metadata": "{}",
         "name": "BranchName",
         "type": "\"string\""
        },
        {
         "metadata": "{}",
         "name": "updated_at",
         "type": "\"timestamp\""
        },
        {
         "metadata": "{}",
         "name": "dim_branch_key",
         "type": "\"long\""
        }
       ],
       "type": "table"
      }
     },
     "output_type": "display_data"
    }
   ],
   "source": [
    "df_filter.display()"
   ]
  },
  {
   "cell_type": "markdown",
   "metadata": {
    "application/vnd.databricks.v1+cell": {
     "cellMetadata": {
      "byteLimit": 2048000,
      "rowLimit": 10000
     },
     "inputWidgets": {},
     "nuid": "7b99e900-3dd8-48e2-8c1e-112d033305df",
     "showTitle": false,
     "tableResultSettingsMap": {},
     "title": ""
    }
   },
   "source": [
    " **df_filter_old**"
   ]
  },
  {
   "cell_type": "code",
   "execution_count": 0,
   "metadata": {
    "application/vnd.databricks.v1+cell": {
     "cellMetadata": {
      "byteLimit": 2048000,
      "rowLimit": 10000
     },
     "inputWidgets": {},
     "nuid": "d2b47a7e-7e60-4284-9674-05a6267efb5e",
     "showTitle": false,
     "tableResultSettingsMap": {},
     "title": ""
    }
   },
   "outputs": [],
   "source": [
    "df_filter_old = df_filter.filter(col('dim_branch_key').isNotNull())"
   ]
  },
  {
   "cell_type": "code",
   "execution_count": 0,
   "metadata": {
    "application/vnd.databricks.v1+cell": {
     "cellMetadata": {
      "byteLimit": 2048000,
      "rowLimit": 10000
     },
     "inputWidgets": {},
     "nuid": "e44ffa65-d569-4568-b1f4-a09f55e07cd8",
     "showTitle": false,
     "tableResultSettingsMap": {},
     "title": ""
    }
   },
   "outputs": [
    {
     "output_type": "display_data",
     "data": {
      "text/html": [
       "<style scoped>\n",
       "  .table-result-container {\n",
       "    max-height: 300px;\n",
       "    overflow: auto;\n",
       "  }\n",
       "  table, th, td {\n",
       "    border: 1px solid black;\n",
       "    border-collapse: collapse;\n",
       "  }\n",
       "  th, td {\n",
       "    padding: 5px;\n",
       "  }\n",
       "  th {\n",
       "    text-align: left;\n",
       "  }\n",
       "</style><div class='table-result-container'><table class='table-result'><thead style='background-color: white'><tr><th>Branch_ID</th><th>BranchName</th><th>updated_at</th><th>dim_branch_key</th></tr></thead><tbody></tbody></table></div>"
      ]
     },
     "metadata": {
      "application/vnd.databricks.v1+output": {
       "addedWidgets": {},
       "aggData": [],
       "aggError": "",
       "aggOverflow": false,
       "aggSchema": [],
       "aggSeriesLimitReached": false,
       "aggType": "",
       "arguments": {},
       "columnCustomDisplayInfos": {},
       "data": [],
       "datasetInfos": [],
       "dbfsResultPath": null,
       "isJsonSchema": true,
       "metadata": {},
       "overflow": false,
       "plotOptions": {
        "customPlotOptions": {},
        "displayType": "table",
        "pivotAggregation": null,
        "pivotColumns": null,
        "xColumns": null,
        "yColumns": null
       },
       "removedWidgets": [],
       "schema": [
        {
         "metadata": "{}",
         "name": "Branch_ID",
         "type": "\"string\""
        },
        {
         "metadata": "{}",
         "name": "BranchName",
         "type": "\"string\""
        },
        {
         "metadata": "{}",
         "name": "updated_at",
         "type": "\"timestamp\""
        },
        {
         "metadata": "{}",
         "name": "dim_branch_key",
         "type": "\"long\""
        }
       ],
       "type": "table"
      }
     },
     "output_type": "display_data"
    }
   ],
   "source": [
    "df_filter_old.display()"
   ]
  },
  {
   "cell_type": "markdown",
   "metadata": {
    "application/vnd.databricks.v1+cell": {
     "cellMetadata": {
      "byteLimit": 2048000,
      "rowLimit": 10000
     },
     "inputWidgets": {},
     "nuid": "fd2d83a6-badf-43dc-bfd0-15a684799349",
     "showTitle": false,
     "tableResultSettingsMap": {},
     "title": ""
    }
   },
   "source": [
    " **df_filter_new**"
   ]
  },
  {
   "cell_type": "code",
   "execution_count": 0,
   "metadata": {
    "application/vnd.databricks.v1+cell": {
     "cellMetadata": {
      "byteLimit": 2048000,
      "rowLimit": 10000
     },
     "inputWidgets": {},
     "nuid": "8afd6f30-d602-42b4-bf99-d32494f9bd39",
     "showTitle": false,
     "tableResultSettingsMap": {},
     "title": ""
    }
   },
   "outputs": [
    {
     "output_type": "display_data",
     "data": {
      "text/html": [
       "<style scoped>\n",
       "  .table-result-container {\n",
       "    max-height: 300px;\n",
       "    overflow: auto;\n",
       "  }\n",
       "  table, th, td {\n",
       "    border: 1px solid black;\n",
       "    border-collapse: collapse;\n",
       "  }\n",
       "  th, td {\n",
       "    padding: 5px;\n",
       "  }\n",
       "  th {\n",
       "    text-align: left;\n",
       "  }\n",
       "</style><div class='table-result-container'><table class='table-result'><thead style='background-color: white'><tr><th>Branch_ID</th><th>BranchName</th><th>updated_at</th></tr></thead><tbody><tr><td>BR9546</td><td>Premier Motors</td><td>null</td></tr><tr><td>BR9666</td><td>Puma Motors</td><td>null</td></tr><tr><td>XYZ9726</td><td>DataFam Motors</td><td>null</td></tr><tr><td>BR9726</td><td>Power Ranger Motors</td><td>null</td></tr></tbody></table></div>"
      ]
     },
     "metadata": {
      "application/vnd.databricks.v1+output": {
       "addedWidgets": {},
       "aggData": [],
       "aggError": "",
       "aggOverflow": false,
       "aggSchema": [],
       "aggSeriesLimitReached": false,
       "aggType": "",
       "arguments": {},
       "columnCustomDisplayInfos": {},
       "data": [
        [
         "BR9546",
         "Premier Motors",
         null
        ],
        [
         "BR9666",
         "Puma Motors",
         null
        ],
        [
         "XYZ9726",
         "DataFam Motors",
         null
        ],
        [
         "BR9726",
         "Power Ranger Motors",
         null
        ]
       ],
       "datasetInfos": [],
       "dbfsResultPath": null,
       "isJsonSchema": true,
       "metadata": {},
       "overflow": false,
       "plotOptions": {
        "customPlotOptions": {},
        "displayType": "table",
        "pivotAggregation": null,
        "pivotColumns": null,
        "xColumns": null,
        "yColumns": null
       },
       "removedWidgets": [],
       "schema": [
        {
         "metadata": "{}",
         "name": "Branch_ID",
         "type": "\"string\""
        },
        {
         "metadata": "{}",
         "name": "BranchName",
         "type": "\"string\""
        },
        {
         "metadata": "{}",
         "name": "updated_at",
         "type": "\"timestamp\""
        }
       ],
       "type": "table"
      }
     },
     "output_type": "display_data"
    }
   ],
   "source": [
    "df_filter_new = df_filter.filter(col('dim_branch_key').isNull()).select(col('Branch_ID'), col('BranchName'), col(\"updated_at\"))\n",
    "df_filter_new.display()"
   ]
  },
  {
   "cell_type": "markdown",
   "metadata": {
    "application/vnd.databricks.v1+cell": {
     "cellMetadata": {
      "byteLimit": 2048000,
      "rowLimit": 10000
     },
     "inputWidgets": {},
     "nuid": "503c03c6-a8d2-40b0-aa93-7322ebdd9e15",
     "showTitle": false,
     "tableResultSettingsMap": {},
     "title": ""
    }
   },
   "source": [
    "# Create Surrogate Key"
   ]
  },
  {
   "cell_type": "markdown",
   "metadata": {
    "application/vnd.databricks.v1+cell": {
     "cellMetadata": {
      "byteLimit": 2048000,
      "rowLimit": 10000
     },
     "inputWidgets": {},
     "nuid": "47ca5eca-1a15-48c8-88ee-4d6ae411d4c7",
     "showTitle": false,
     "tableResultSettingsMap": {},
     "title": ""
    }
   },
   "source": [
    "### Fetching the max Surrogate key from existing table"
   ]
  },
  {
   "cell_type": "markdown",
   "metadata": {
    "application/vnd.databricks.v1+cell": {
     "cellMetadata": {
      "byteLimit": 2048000,
      "rowLimit": 10000
     },
     "inputWidgets": {},
     "nuid": "49a36daa-401a-47d4-9249-764f33be5cd9",
     "showTitle": false,
     "tableResultSettingsMap": {},
     "title": ""
    }
   },
   "source": [
    "this Surrogate Key acts as the start point for incremental loading"
   ]
  },
  {
   "cell_type": "code",
   "execution_count": 0,
   "metadata": {
    "application/vnd.databricks.v1+cell": {
     "cellMetadata": {
      "byteLimit": 2048000,
      "rowLimit": 10000
     },
     "inputWidgets": {},
     "nuid": "e3f43d17-0548-427f-a7cb-04eb6c3e6fc3",
     "showTitle": false,
     "tableResultSettingsMap": {},
     "title": ""
    }
   },
   "outputs": [],
   "source": [
    "if (v_incre_flag == '0'):\n",
    "    max_value = 1\n",
    "else:\n",
    "    max_value_df = spark.sql(\"select max(dim_branch_key) from cars_catalog.gold.dim_branch\")\n",
    "    max_value = max_value_df.collect()[0][0] + 1"
   ]
  },
  {
   "cell_type": "markdown",
   "metadata": {
    "application/vnd.databricks.v1+cell": {
     "cellMetadata": {
      "byteLimit": 2048000,
      "rowLimit": 10000
     },
     "inputWidgets": {},
     "nuid": "9a0ee3de-cae6-46e0-85e9-6b7ec0cd76fe",
     "showTitle": false,
     "tableResultSettingsMap": {},
     "title": ""
    }
   },
   "source": [
    "### Creating Surrogate Key column and ADD the max surrogate key"
   ]
  },
  {
   "cell_type": "code",
   "execution_count": 0,
   "metadata": {
    "application/vnd.databricks.v1+cell": {
     "cellMetadata": {
      "byteLimit": 2048000,
      "rowLimit": 10000
     },
     "inputWidgets": {},
     "nuid": "b23d153a-5804-42f8-acac-4b6060076bfb",
     "showTitle": false,
     "tableResultSettingsMap": {},
     "title": ""
    }
   },
   "outputs": [],
   "source": [
    "df_filter_new = df_filter_new.withColumn('dim_branch_key', max_value + monotonically_increasing_id())"
   ]
  },
  {
   "cell_type": "code",
   "execution_count": 0,
   "metadata": {
    "application/vnd.databricks.v1+cell": {
     "cellMetadata": {
      "byteLimit": 2048000,
      "rowLimit": 10000
     },
     "inputWidgets": {},
     "nuid": "6d551d8a-b9b1-45a7-9af0-584d3990f21b",
     "showTitle": false,
     "tableResultSettingsMap": {},
     "title": ""
    }
   },
   "outputs": [
    {
     "output_type": "display_data",
     "data": {
      "text/html": [
       "<style scoped>\n",
       "  .table-result-container {\n",
       "    max-height: 300px;\n",
       "    overflow: auto;\n",
       "  }\n",
       "  table, th, td {\n",
       "    border: 1px solid black;\n",
       "    border-collapse: collapse;\n",
       "  }\n",
       "  th, td {\n",
       "    padding: 5px;\n",
       "  }\n",
       "  th {\n",
       "    text-align: left;\n",
       "  }\n",
       "</style><div class='table-result-container'><table class='table-result'><thead style='background-color: white'><tr><th>Branch_ID</th><th>BranchName</th><th>updated_at</th><th>dim_branch_key</th></tr></thead><tbody><tr><td>BR9546</td><td>Premier Motors</td><td>null</td><td>1837</td></tr><tr><td>BR9666</td><td>Puma Motors</td><td>null</td><td>1838</td></tr><tr><td>XYZ9726</td><td>DataFam Motors</td><td>null</td><td>1839</td></tr><tr><td>BR9726</td><td>Power Ranger Motors</td><td>null</td><td>1840</td></tr></tbody></table></div>"
      ]
     },
     "metadata": {
      "application/vnd.databricks.v1+output": {
       "addedWidgets": {},
       "aggData": [],
       "aggError": "",
       "aggOverflow": false,
       "aggSchema": [],
       "aggSeriesLimitReached": false,
       "aggType": "",
       "arguments": {},
       "columnCustomDisplayInfos": {},
       "data": [
        [
         "BR9546",
         "Premier Motors",
         null,
         1837
        ],
        [
         "BR9666",
         "Puma Motors",
         null,
         1838
        ],
        [
         "XYZ9726",
         "DataFam Motors",
         null,
         1839
        ],
        [
         "BR9726",
         "Power Ranger Motors",
         null,
         1840
        ]
       ],
       "datasetInfos": [],
       "dbfsResultPath": null,
       "isJsonSchema": true,
       "metadata": {},
       "overflow": false,
       "plotOptions": {
        "customPlotOptions": {},
        "displayType": "table",
        "pivotAggregation": null,
        "pivotColumns": null,
        "xColumns": null,
        "yColumns": null
       },
       "removedWidgets": [],
       "schema": [
        {
         "metadata": "{}",
         "name": "Branch_ID",
         "type": "\"string\""
        },
        {
         "metadata": "{}",
         "name": "BranchName",
         "type": "\"string\""
        },
        {
         "metadata": "{}",
         "name": "updated_at",
         "type": "\"timestamp\""
        },
        {
         "metadata": "{}",
         "name": "dim_branch_key",
         "type": "\"long\""
        }
       ],
       "type": "table"
      }
     },
     "output_type": "display_data"
    }
   ],
   "source": [
    "df_filter_new.display()"
   ]
  },
  {
   "cell_type": "markdown",
   "metadata": {
    "application/vnd.databricks.v1+cell": {
     "cellMetadata": {
      "byteLimit": 2048000,
      "rowLimit": 10000
     },
     "inputWidgets": {},
     "nuid": "38ea3dd1-2acf-48a7-b111-445aff0b195a",
     "showTitle": false,
     "tableResultSettingsMap": {},
     "title": ""
    }
   },
   "source": [
    "### Create Final DF = df_filter_old + df_filter_new"
   ]
  },
  {
   "cell_type": "code",
   "execution_count": 0,
   "metadata": {
    "application/vnd.databricks.v1+cell": {
     "cellMetadata": {
      "byteLimit": 2048000,
      "rowLimit": 10000
     },
     "inputWidgets": {},
     "nuid": "b9a85685-d7c7-496c-a6f3-e1c0b942764a",
     "showTitle": false,
     "tableResultSettingsMap": {},
     "title": ""
    }
   },
   "outputs": [],
   "source": [
    "df_final = df_filter_new.union(df_filter_old)"
   ]
  },
  {
   "cell_type": "code",
   "execution_count": 0,
   "metadata": {
    "application/vnd.databricks.v1+cell": {
     "cellMetadata": {
      "byteLimit": 2048000,
      "rowLimit": 10000
     },
     "inputWidgets": {},
     "nuid": "46a1283d-0a05-4d5f-b62e-10b04b18f346",
     "showTitle": false,
     "tableResultSettingsMap": {},
     "title": ""
    }
   },
   "outputs": [
    {
     "output_type": "display_data",
     "data": {
      "text/html": [
       "<style scoped>\n",
       "  .table-result-container {\n",
       "    max-height: 300px;\n",
       "    overflow: auto;\n",
       "  }\n",
       "  table, th, td {\n",
       "    border: 1px solid black;\n",
       "    border-collapse: collapse;\n",
       "  }\n",
       "  th, td {\n",
       "    padding: 5px;\n",
       "  }\n",
       "  th {\n",
       "    text-align: left;\n",
       "  }\n",
       "</style><div class='table-result-container'><table class='table-result'><thead style='background-color: white'><tr><th>Branch_ID</th><th>BranchName</th><th>updated_at</th><th>dim_branch_key</th></tr></thead><tbody><tr><td>BR9546</td><td>Premier Motors</td><td>null</td><td>1837</td></tr><tr><td>BR9666</td><td>Puma Motors</td><td>null</td><td>1838</td></tr><tr><td>XYZ9726</td><td>DataFam Motors</td><td>null</td><td>1839</td></tr><tr><td>BR9726</td><td>Power Ranger Motors</td><td>null</td><td>1840</td></tr></tbody></table></div>"
      ]
     },
     "metadata": {
      "application/vnd.databricks.v1+output": {
       "addedWidgets": {},
       "aggData": [],
       "aggError": "",
       "aggOverflow": false,
       "aggSchema": [],
       "aggSeriesLimitReached": false,
       "aggType": "",
       "arguments": {},
       "columnCustomDisplayInfos": {},
       "data": [
        [
         "BR9546",
         "Premier Motors",
         null,
         1837
        ],
        [
         "BR9666",
         "Puma Motors",
         null,
         1838
        ],
        [
         "XYZ9726",
         "DataFam Motors",
         null,
         1839
        ],
        [
         "BR9726",
         "Power Ranger Motors",
         null,
         1840
        ]
       ],
       "datasetInfos": [],
       "dbfsResultPath": null,
       "isJsonSchema": true,
       "metadata": {},
       "overflow": false,
       "plotOptions": {
        "customPlotOptions": {},
        "displayType": "table",
        "pivotAggregation": null,
        "pivotColumns": null,
        "xColumns": null,
        "yColumns": null
       },
       "removedWidgets": [],
       "schema": [
        {
         "metadata": "{}",
         "name": "Branch_ID",
         "type": "\"string\""
        },
        {
         "metadata": "{}",
         "name": "BranchName",
         "type": "\"string\""
        },
        {
         "metadata": "{}",
         "name": "updated_at",
         "type": "\"timestamp\""
        },
        {
         "metadata": "{}",
         "name": "dim_branch_key",
         "type": "\"long\""
        }
       ],
       "type": "table"
      }
     },
     "output_type": "display_data"
    }
   ],
   "source": [
    "df_final.display()"
   ]
  },
  {
   "cell_type": "markdown",
   "metadata": {
    "application/vnd.databricks.v1+cell": {
     "cellMetadata": {
      "byteLimit": 2048000,
      "rowLimit": 10000
     },
     "inputWidgets": {},
     "nuid": "d7a27da8-92c3-4a33-929c-992773c58ea0",
     "showTitle": false,
     "tableResultSettingsMap": {},
     "title": ""
    }
   },
   "source": [
    "# SCD - TYPE 1 (UPSERT)"
   ]
  },
  {
   "cell_type": "code",
   "execution_count": 0,
   "metadata": {
    "application/vnd.databricks.v1+cell": {
     "cellMetadata": {
      "byteLimit": 2048000,
      "rowLimit": 10000
     },
     "inputWidgets": {},
     "nuid": "cddd471c-d2e6-482e-8452-0c47b1213cf3",
     "showTitle": false,
     "tableResultSettingsMap": {},
     "title": ""
    }
   },
   "outputs": [],
   "source": [
    "from pyspark.sql.functions import current_timestamp,lit"
   ]
  },
  {
   "cell_type": "code",
   "execution_count": 0,
   "metadata": {
    "application/vnd.databricks.v1+cell": {
     "cellMetadata": {
      "byteLimit": 2048000,
      "rowLimit": 10000
     },
     "inputWidgets": {},
     "nuid": "7ee99d2c-c633-410d-a95e-53f5d7b6affd",
     "showTitle": false,
     "tableResultSettingsMap": {},
     "title": ""
    }
   },
   "outputs": [],
   "source": [
    "cur_time_str = spark.sql(\"SELECT current_timestamp()\").collect()[0][0].strftime(\"%Y-%m-%d %H:%M:%S.%f\")\n",
    "\n",
    "# incremental load\n",
    "if spark.catalog.tableExists('cars_catalog.gold.dim_branch'): \n",
    "    deltaTable = DeltaTable.forPath(spark, \"abfss://gold@cardeprojectdl.dfs.core.windows.net/dim_branch\")\n",
    "\n",
    "    deltaTable.alias(\"tar\").merge(df_final.alias(\"src\"), \"tar.dim_branch_key=src.dim_branch_key\") \\\n",
    "                    .whenMatchedUpdate(set={\n",
    "                        \"Branch_ID\": \"src.Branch_ID\",\n",
    "                        \"BranchName\": \"src.BranchName\",\n",
    "                        \"updated_at\": f\"'{cur_time_str}'\"\n",
    "                        \n",
    "                    }\n",
    "                        \n",
    "                    ) \\\n",
    "                    .whenNotMatchedInsert(values={\n",
    "                        \"Branch_ID\": \"src.Branch_ID\",\n",
    "                        \"BranchName\": \"src.BranchName\",\n",
    "                        \"dim_branch_key\": \"src.dim_branch_key\",\n",
    "                        \"updated_at\": f\"'{cur_time_str}'\"\n",
    "                    }) \\\n",
    "                    .execute()\n",
    "    spark.sql(f\"\"\"\n",
    "                UPDATE cars_catalog.default.metadata_table\n",
    "                SET last_updated_time = '{cur_time_str}'\n",
    "                WHERE table_name = \"dim_branch\"\n",
    "\"\"\")\n",
    "# initial run\n",
    "else: \n",
    "    df_final = df_final.withColumn(\"updated_at\", lit(cur_time_str))\n",
    "    df_final.write.mode(\"overwrite\") \\\n",
    "        .format(\"delta\") \\\n",
    "        .option(\"path\", \"abfss://gold@cardeprojectdl.dfs.core.windows.net/dim_branch\") \\\n",
    "        .saveAsTable(\"cars_catalog.gold.dim_branch\")\n",
    "    \n",
    "    spark.sql(f\"\"\"\n",
    "              INSERT INTO cars_catalog.default.metadata_table\n",
    "              VALUES (\"dim_branch\", '{cur_time_str}')\n",
    "              \"\"\")"
   ]
  },
  {
   "cell_type": "code",
   "execution_count": 0,
   "metadata": {
    "application/vnd.databricks.v1+cell": {
     "cellMetadata": {
      "byteLimit": 2048000,
      "implicitDf": true,
      "rowLimit": 10000
     },
     "inputWidgets": {},
     "nuid": "7435f3fa-28b2-4deb-9fc1-5641c151322d",
     "showTitle": false,
     "tableResultSettingsMap": {},
     "title": ""
    }
   },
   "outputs": [
    {
     "output_type": "display_data",
     "data": {
      "text/plain": [
       "\u001B[0;31m---------------------------------------------------------------------------\u001B[0m\n",
       "\u001B[0;31mTypeError\u001B[0m                                 Traceback (most recent call last)\n",
       "File \u001B[0;32m<command-625789842676848>, line 8\u001B[0m\n",
       "\u001B[1;32m      4\u001B[0m \u001B[38;5;28;01mif\u001B[39;00m spark\u001B[38;5;241m.\u001B[39mcatalog\u001B[38;5;241m.\u001B[39mtableExists(\u001B[38;5;124m'\u001B[39m\u001B[38;5;124mcars_catalog.gold.dim_test\u001B[39m\u001B[38;5;124m'\u001B[39m): \n",
       "\u001B[1;32m      5\u001B[0m     deltaTable \u001B[38;5;241m=\u001B[39m DeltaTable\u001B[38;5;241m.\u001B[39mforPath(spark, \u001B[38;5;124m\"\u001B[39m\u001B[38;5;124mabfss://gold@cardeprojectdl.dfs.core.windows.net/dim_test\u001B[39m\u001B[38;5;124m\"\u001B[39m)\n",
       "\u001B[1;32m      7\u001B[0m     deltaTable\u001B[38;5;241m.\u001B[39malias(\u001B[38;5;124m\"\u001B[39m\u001B[38;5;124mtar\u001B[39m\u001B[38;5;124m\"\u001B[39m)\u001B[38;5;241m.\u001B[39mmerge(df_final\u001B[38;5;241m.\u001B[39malias(\u001B[38;5;124m\"\u001B[39m\u001B[38;5;124msrc\u001B[39m\u001B[38;5;124m\"\u001B[39m), \u001B[38;5;124m\"\u001B[39m\u001B[38;5;124mtar.dim_branch_key=src.dim_branch_key\u001B[39m\u001B[38;5;124m\"\u001B[39m) \\\n",
       "\u001B[0;32m----> 8\u001B[0m                     \u001B[38;5;241m.\u001B[39mwhenMatchedUpdate(\u001B[38;5;28mset\u001B[39m\u001B[38;5;241m=\u001B[39m{\n",
       "\u001B[1;32m      9\u001B[0m                         \u001B[38;5;124m\"\u001B[39m\u001B[38;5;124mBranch_ID\u001B[39m\u001B[38;5;124m\"\u001B[39m: \u001B[38;5;124m\"\u001B[39m\u001B[38;5;124msrc.Branch_ID\u001B[39m\u001B[38;5;124m\"\u001B[39m,\n",
       "\u001B[1;32m     10\u001B[0m                         \u001B[38;5;124m\"\u001B[39m\u001B[38;5;124mBranchName\u001B[39m\u001B[38;5;124m\"\u001B[39m: \u001B[38;5;124m\"\u001B[39m\u001B[38;5;124msrc.BranchName\u001B[39m\u001B[38;5;124m\"\u001B[39m,\n",
       "\u001B[1;32m     11\u001B[0m                         \u001B[38;5;124m\"\u001B[39m\u001B[38;5;124mupdated_at\u001B[39m\u001B[38;5;124m\"\u001B[39m:  cur_time_str\n",
       "\u001B[1;32m     12\u001B[0m                         \n",
       "\u001B[1;32m     13\u001B[0m                     }\n",
       "\u001B[1;32m     14\u001B[0m                         \n",
       "\u001B[1;32m     15\u001B[0m                     ) \\\n",
       "\u001B[1;32m     16\u001B[0m                     \u001B[38;5;241m.\u001B[39mwhenNotMatchedInsert(values\u001B[38;5;241m=\u001B[39m{\n",
       "\u001B[1;32m     17\u001B[0m                         \u001B[38;5;124m\"\u001B[39m\u001B[38;5;124mBranch_ID\u001B[39m\u001B[38;5;124m\"\u001B[39m: \u001B[38;5;124m\"\u001B[39m\u001B[38;5;124msrc.Branch_ID\u001B[39m\u001B[38;5;124m\"\u001B[39m,\n",
       "\u001B[1;32m     18\u001B[0m                         \u001B[38;5;124m\"\u001B[39m\u001B[38;5;124mBranchName\u001B[39m\u001B[38;5;124m\"\u001B[39m: \u001B[38;5;124m\"\u001B[39m\u001B[38;5;124msrc.BranchName\u001B[39m\u001B[38;5;124m\"\u001B[39m,\n",
       "\u001B[1;32m     19\u001B[0m                         \u001B[38;5;124m\"\u001B[39m\u001B[38;5;124mdim_branch_key\u001B[39m\u001B[38;5;124m\"\u001B[39m: \u001B[38;5;124m\"\u001B[39m\u001B[38;5;124msrc.dim_branch_key\u001B[39m\u001B[38;5;124m\"\u001B[39m,\n",
       "\u001B[1;32m     20\u001B[0m                         \u001B[38;5;124m\"\u001B[39m\u001B[38;5;124mupdated_at\u001B[39m\u001B[38;5;124m\"\u001B[39m: cur_time_str\n",
       "\u001B[1;32m     21\u001B[0m                     }) \\\n",
       "\u001B[1;32m     22\u001B[0m                     \u001B[38;5;241m.\u001B[39mexecute()\n",
       "\u001B[1;32m     23\u001B[0m     spark\u001B[38;5;241m.\u001B[39msql(\u001B[38;5;124mf\u001B[39m\u001B[38;5;124m\"\"\"\u001B[39m\n",
       "\u001B[1;32m     24\u001B[0m \u001B[38;5;124m                UPDATE cars_catalog.default.metadata_table\u001B[39m\n",
       "\u001B[1;32m     25\u001B[0m \u001B[38;5;124m                SET last_updated_time = \u001B[39m\u001B[38;5;124m'\u001B[39m\u001B[38;5;132;01m{\u001B[39;00mcur_time_str\u001B[38;5;132;01m}\u001B[39;00m\u001B[38;5;124m'\u001B[39m\n",
       "\u001B[1;32m     26\u001B[0m \u001B[38;5;124m                WHERE table_name = \u001B[39m\u001B[38;5;124m\"\u001B[39m\u001B[38;5;124mdim_test\u001B[39m\u001B[38;5;124m\"\u001B[39m\n",
       "\u001B[1;32m     27\u001B[0m \u001B[38;5;124m\"\"\"\u001B[39m)\n",
       "\u001B[1;32m     28\u001B[0m \u001B[38;5;66;03m# initial run\u001B[39;00m\n",
       "\u001B[1;32m     29\u001B[0m \u001B[38;5;28;01melse\u001B[39;00m: \n",
       "\n",
       "File \u001B[0;32m/databricks/spark/python/delta/tables.py:1062\u001B[0m, in \u001B[0;36mDeltaMergeBuilder.whenMatchedUpdate\u001B[0;34m(self, condition, set)\u001B[0m\n",
       "\u001B[1;32m   1041\u001B[0m \u001B[38;5;28;01mdef\u001B[39;00m \u001B[38;5;21mwhenMatchedUpdate\u001B[39m(\n",
       "\u001B[1;32m   1042\u001B[0m     \u001B[38;5;28mself\u001B[39m,\n",
       "\u001B[1;32m   1043\u001B[0m     condition: OptionalExpressionOrColumn \u001B[38;5;241m=\u001B[39m \u001B[38;5;28;01mNone\u001B[39;00m,\n",
       "\u001B[1;32m   1044\u001B[0m     \u001B[38;5;28mset\u001B[39m: OptionalColumnMapping \u001B[38;5;241m=\u001B[39m \u001B[38;5;28;01mNone\u001B[39;00m\n",
       "\u001B[1;32m   1045\u001B[0m ) \u001B[38;5;241m-\u001B[39m\u001B[38;5;241m>\u001B[39m \u001B[38;5;124m\"\u001B[39m\u001B[38;5;124mDeltaMergeBuilder\u001B[39m\u001B[38;5;124m\"\u001B[39m:\n",
       "\u001B[1;32m   1046\u001B[0m \u001B[38;5;250m    \u001B[39m\u001B[38;5;124;03m\"\"\"\u001B[39;00m\n",
       "\u001B[1;32m   1047\u001B[0m \u001B[38;5;124;03m    Update a matched table row based on the rules defined by ``set``.\u001B[39;00m\n",
       "\u001B[1;32m   1048\u001B[0m \u001B[38;5;124;03m    If a ``condition`` is specified, then it must evaluate to true for the row to be updated.\u001B[39;00m\n",
       "\u001B[0;32m   (...)\u001B[0m\n",
       "\u001B[1;32m   1060\u001B[0m \u001B[38;5;124;03m    .. versionadded:: 0.4\u001B[39;00m\n",
       "\u001B[1;32m   1061\u001B[0m \u001B[38;5;124;03m    \"\"\"\u001B[39;00m\n",
       "\u001B[0;32m-> 1062\u001B[0m     jset \u001B[38;5;241m=\u001B[39m DeltaTable\u001B[38;5;241m.\u001B[39m_dict_to_jmap(\u001B[38;5;28mself\u001B[39m\u001B[38;5;241m.\u001B[39m_spark, \u001B[38;5;28mset\u001B[39m, \u001B[38;5;124m\"\u001B[39m\u001B[38;5;124m'\u001B[39m\u001B[38;5;124mset\u001B[39m\u001B[38;5;124m'\u001B[39m\u001B[38;5;124m in whenMatchedUpdate\u001B[39m\u001B[38;5;124m\"\u001B[39m)\n",
       "\u001B[1;32m   1063\u001B[0m     new_jbuilder \u001B[38;5;241m=\u001B[39m \u001B[38;5;28mself\u001B[39m\u001B[38;5;241m.\u001B[39m__getMatchedBuilder(condition)\u001B[38;5;241m.\u001B[39mupdate(jset)\n",
       "\u001B[1;32m   1064\u001B[0m     \u001B[38;5;28;01mreturn\u001B[39;00m DeltaMergeBuilder(\u001B[38;5;28mself\u001B[39m\u001B[38;5;241m.\u001B[39m_spark, new_jbuilder)\n",
       "\n",
       "File \u001B[0;32m/databricks/spark/python/delta/tables.py:884\u001B[0m, in \u001B[0;36mDeltaTable._dict_to_jmap\u001B[0;34m(sparkSession, pydict, argname)\u001B[0m\n",
       "\u001B[1;32m    880\u001B[0m     \u001B[38;5;28;01melse\u001B[39;00m:\n",
       "\u001B[1;32m    881\u001B[0m         e \u001B[38;5;241m=\u001B[39m (\u001B[38;5;124m\"\u001B[39m\u001B[38;5;124mValues of dict in \u001B[39m\u001B[38;5;132;01m%s\u001B[39;00m\u001B[38;5;124m must contain only Spark SQL Columns \u001B[39m\u001B[38;5;124m\"\u001B[39m \u001B[38;5;241m%\u001B[39m argname) \u001B[38;5;241m+\u001B[39m \\\n",
       "\u001B[1;32m    882\u001B[0m             \u001B[38;5;124m\"\u001B[39m\u001B[38;5;124mor strings (expressions in SQL syntax) as values, \u001B[39m\u001B[38;5;124m\"\u001B[39m \u001B[38;5;241m+\u001B[39m \\\n",
       "\u001B[1;32m    883\u001B[0m             (\u001B[38;5;124m\"\u001B[39m\u001B[38;5;124mfound \u001B[39m\u001B[38;5;124m'\u001B[39m\u001B[38;5;132;01m%s\u001B[39;00m\u001B[38;5;124m'\u001B[39m\u001B[38;5;124m of type \u001B[39m\u001B[38;5;124m'\u001B[39m\u001B[38;5;132;01m%s\u001B[39;00m\u001B[38;5;124m'\u001B[39m\u001B[38;5;124m\"\u001B[39m \u001B[38;5;241m%\u001B[39m (\u001B[38;5;28mstr\u001B[39m(expr), \u001B[38;5;28mstr\u001B[39m(\u001B[38;5;28mtype\u001B[39m(expr))))\n",
       "\u001B[0;32m--> 884\u001B[0m         \u001B[38;5;28;01mraise\u001B[39;00m \u001B[38;5;167;01mTypeError\u001B[39;00m(e)\n",
       "\u001B[1;32m    885\u001B[0m \u001B[38;5;28;01mreturn\u001B[39;00m jmap\n",
       "\n",
       "\u001B[0;31mTypeError\u001B[0m: Values of dict in 'set' in whenMatchedUpdate must contain only Spark SQL Columns or strings (expressions in SQL syntax) as values, found '2025-05-06 08:28:32.347000' of type '<class 'datetime.datetime'>'"
      ]
     },
     "metadata": {
      "application/vnd.databricks.v1+output": {
       "addedWidgets": {},
       "arguments": {
        "incremental_flag": "1",
        "ingestion_date": "2025-05-01"
       },
       "datasetInfos": [],
       "jupyterProps": {
        "ename": "TypeError",
        "evalue": "Values of dict in 'set' in whenMatchedUpdate must contain only Spark SQL Columns or strings (expressions in SQL syntax) as values, found '2025-05-06 08:28:32.347000' of type '<class 'datetime.datetime'>'"
       },
       "metadata": {
        "errorSummary": "Command skipped"
       },
       "removedWidgets": [],
       "sqlProps": null,
       "stackFrames": [
        "\u001B[0;31m---------------------------------------------------------------------------\u001B[0m",
        "\u001B[0;31mTypeError\u001B[0m                                 Traceback (most recent call last)",
        "File \u001B[0;32m<command-625789842676848>, line 8\u001B[0m\n\u001B[1;32m      4\u001B[0m \u001B[38;5;28;01mif\u001B[39;00m spark\u001B[38;5;241m.\u001B[39mcatalog\u001B[38;5;241m.\u001B[39mtableExists(\u001B[38;5;124m'\u001B[39m\u001B[38;5;124mcars_catalog.gold.dim_test\u001B[39m\u001B[38;5;124m'\u001B[39m): \n\u001B[1;32m      5\u001B[0m     deltaTable \u001B[38;5;241m=\u001B[39m DeltaTable\u001B[38;5;241m.\u001B[39mforPath(spark, \u001B[38;5;124m\"\u001B[39m\u001B[38;5;124mabfss://gold@cardeprojectdl.dfs.core.windows.net/dim_test\u001B[39m\u001B[38;5;124m\"\u001B[39m)\n\u001B[1;32m      7\u001B[0m     deltaTable\u001B[38;5;241m.\u001B[39malias(\u001B[38;5;124m\"\u001B[39m\u001B[38;5;124mtar\u001B[39m\u001B[38;5;124m\"\u001B[39m)\u001B[38;5;241m.\u001B[39mmerge(df_final\u001B[38;5;241m.\u001B[39malias(\u001B[38;5;124m\"\u001B[39m\u001B[38;5;124msrc\u001B[39m\u001B[38;5;124m\"\u001B[39m), \u001B[38;5;124m\"\u001B[39m\u001B[38;5;124mtar.dim_branch_key=src.dim_branch_key\u001B[39m\u001B[38;5;124m\"\u001B[39m) \\\n\u001B[0;32m----> 8\u001B[0m                     \u001B[38;5;241m.\u001B[39mwhenMatchedUpdate(\u001B[38;5;28mset\u001B[39m\u001B[38;5;241m=\u001B[39m{\n\u001B[1;32m      9\u001B[0m                         \u001B[38;5;124m\"\u001B[39m\u001B[38;5;124mBranch_ID\u001B[39m\u001B[38;5;124m\"\u001B[39m: \u001B[38;5;124m\"\u001B[39m\u001B[38;5;124msrc.Branch_ID\u001B[39m\u001B[38;5;124m\"\u001B[39m,\n\u001B[1;32m     10\u001B[0m                         \u001B[38;5;124m\"\u001B[39m\u001B[38;5;124mBranchName\u001B[39m\u001B[38;5;124m\"\u001B[39m: \u001B[38;5;124m\"\u001B[39m\u001B[38;5;124msrc.BranchName\u001B[39m\u001B[38;5;124m\"\u001B[39m,\n\u001B[1;32m     11\u001B[0m                         \u001B[38;5;124m\"\u001B[39m\u001B[38;5;124mupdated_at\u001B[39m\u001B[38;5;124m\"\u001B[39m:  cur_time_str\n\u001B[1;32m     12\u001B[0m                         \n\u001B[1;32m     13\u001B[0m                     }\n\u001B[1;32m     14\u001B[0m                         \n\u001B[1;32m     15\u001B[0m                     ) \\\n\u001B[1;32m     16\u001B[0m                     \u001B[38;5;241m.\u001B[39mwhenNotMatchedInsert(values\u001B[38;5;241m=\u001B[39m{\n\u001B[1;32m     17\u001B[0m                         \u001B[38;5;124m\"\u001B[39m\u001B[38;5;124mBranch_ID\u001B[39m\u001B[38;5;124m\"\u001B[39m: \u001B[38;5;124m\"\u001B[39m\u001B[38;5;124msrc.Branch_ID\u001B[39m\u001B[38;5;124m\"\u001B[39m,\n\u001B[1;32m     18\u001B[0m                         \u001B[38;5;124m\"\u001B[39m\u001B[38;5;124mBranchName\u001B[39m\u001B[38;5;124m\"\u001B[39m: \u001B[38;5;124m\"\u001B[39m\u001B[38;5;124msrc.BranchName\u001B[39m\u001B[38;5;124m\"\u001B[39m,\n\u001B[1;32m     19\u001B[0m                         \u001B[38;5;124m\"\u001B[39m\u001B[38;5;124mdim_branch_key\u001B[39m\u001B[38;5;124m\"\u001B[39m: \u001B[38;5;124m\"\u001B[39m\u001B[38;5;124msrc.dim_branch_key\u001B[39m\u001B[38;5;124m\"\u001B[39m,\n\u001B[1;32m     20\u001B[0m                         \u001B[38;5;124m\"\u001B[39m\u001B[38;5;124mupdated_at\u001B[39m\u001B[38;5;124m\"\u001B[39m: cur_time_str\n\u001B[1;32m     21\u001B[0m                     }) \\\n\u001B[1;32m     22\u001B[0m                     \u001B[38;5;241m.\u001B[39mexecute()\n\u001B[1;32m     23\u001B[0m     spark\u001B[38;5;241m.\u001B[39msql(\u001B[38;5;124mf\u001B[39m\u001B[38;5;124m\"\"\"\u001B[39m\n\u001B[1;32m     24\u001B[0m \u001B[38;5;124m                UPDATE cars_catalog.default.metadata_table\u001B[39m\n\u001B[1;32m     25\u001B[0m \u001B[38;5;124m                SET last_updated_time = \u001B[39m\u001B[38;5;124m'\u001B[39m\u001B[38;5;132;01m{\u001B[39;00mcur_time_str\u001B[38;5;132;01m}\u001B[39;00m\u001B[38;5;124m'\u001B[39m\n\u001B[1;32m     26\u001B[0m \u001B[38;5;124m                WHERE table_name = \u001B[39m\u001B[38;5;124m\"\u001B[39m\u001B[38;5;124mdim_test\u001B[39m\u001B[38;5;124m\"\u001B[39m\n\u001B[1;32m     27\u001B[0m \u001B[38;5;124m\"\"\"\u001B[39m)\n\u001B[1;32m     28\u001B[0m \u001B[38;5;66;03m# initial run\u001B[39;00m\n\u001B[1;32m     29\u001B[0m \u001B[38;5;28;01melse\u001B[39;00m: \n",
        "File \u001B[0;32m/databricks/spark/python/delta/tables.py:1062\u001B[0m, in \u001B[0;36mDeltaMergeBuilder.whenMatchedUpdate\u001B[0;34m(self, condition, set)\u001B[0m\n\u001B[1;32m   1041\u001B[0m \u001B[38;5;28;01mdef\u001B[39;00m \u001B[38;5;21mwhenMatchedUpdate\u001B[39m(\n\u001B[1;32m   1042\u001B[0m     \u001B[38;5;28mself\u001B[39m,\n\u001B[1;32m   1043\u001B[0m     condition: OptionalExpressionOrColumn \u001B[38;5;241m=\u001B[39m \u001B[38;5;28;01mNone\u001B[39;00m,\n\u001B[1;32m   1044\u001B[0m     \u001B[38;5;28mset\u001B[39m: OptionalColumnMapping \u001B[38;5;241m=\u001B[39m \u001B[38;5;28;01mNone\u001B[39;00m\n\u001B[1;32m   1045\u001B[0m ) \u001B[38;5;241m-\u001B[39m\u001B[38;5;241m>\u001B[39m \u001B[38;5;124m\"\u001B[39m\u001B[38;5;124mDeltaMergeBuilder\u001B[39m\u001B[38;5;124m\"\u001B[39m:\n\u001B[1;32m   1046\u001B[0m \u001B[38;5;250m    \u001B[39m\u001B[38;5;124;03m\"\"\"\u001B[39;00m\n\u001B[1;32m   1047\u001B[0m \u001B[38;5;124;03m    Update a matched table row based on the rules defined by ``set``.\u001B[39;00m\n\u001B[1;32m   1048\u001B[0m \u001B[38;5;124;03m    If a ``condition`` is specified, then it must evaluate to true for the row to be updated.\u001B[39;00m\n\u001B[0;32m   (...)\u001B[0m\n\u001B[1;32m   1060\u001B[0m \u001B[38;5;124;03m    .. versionadded:: 0.4\u001B[39;00m\n\u001B[1;32m   1061\u001B[0m \u001B[38;5;124;03m    \"\"\"\u001B[39;00m\n\u001B[0;32m-> 1062\u001B[0m     jset \u001B[38;5;241m=\u001B[39m DeltaTable\u001B[38;5;241m.\u001B[39m_dict_to_jmap(\u001B[38;5;28mself\u001B[39m\u001B[38;5;241m.\u001B[39m_spark, \u001B[38;5;28mset\u001B[39m, \u001B[38;5;124m\"\u001B[39m\u001B[38;5;124m'\u001B[39m\u001B[38;5;124mset\u001B[39m\u001B[38;5;124m'\u001B[39m\u001B[38;5;124m in whenMatchedUpdate\u001B[39m\u001B[38;5;124m\"\u001B[39m)\n\u001B[1;32m   1063\u001B[0m     new_jbuilder \u001B[38;5;241m=\u001B[39m \u001B[38;5;28mself\u001B[39m\u001B[38;5;241m.\u001B[39m__getMatchedBuilder(condition)\u001B[38;5;241m.\u001B[39mupdate(jset)\n\u001B[1;32m   1064\u001B[0m     \u001B[38;5;28;01mreturn\u001B[39;00m DeltaMergeBuilder(\u001B[38;5;28mself\u001B[39m\u001B[38;5;241m.\u001B[39m_spark, new_jbuilder)\n",
        "File \u001B[0;32m/databricks/spark/python/delta/tables.py:884\u001B[0m, in \u001B[0;36mDeltaTable._dict_to_jmap\u001B[0;34m(sparkSession, pydict, argname)\u001B[0m\n\u001B[1;32m    880\u001B[0m     \u001B[38;5;28;01melse\u001B[39;00m:\n\u001B[1;32m    881\u001B[0m         e \u001B[38;5;241m=\u001B[39m (\u001B[38;5;124m\"\u001B[39m\u001B[38;5;124mValues of dict in \u001B[39m\u001B[38;5;132;01m%s\u001B[39;00m\u001B[38;5;124m must contain only Spark SQL Columns \u001B[39m\u001B[38;5;124m\"\u001B[39m \u001B[38;5;241m%\u001B[39m argname) \u001B[38;5;241m+\u001B[39m \\\n\u001B[1;32m    882\u001B[0m             \u001B[38;5;124m\"\u001B[39m\u001B[38;5;124mor strings (expressions in SQL syntax) as values, \u001B[39m\u001B[38;5;124m\"\u001B[39m \u001B[38;5;241m+\u001B[39m \\\n\u001B[1;32m    883\u001B[0m             (\u001B[38;5;124m\"\u001B[39m\u001B[38;5;124mfound \u001B[39m\u001B[38;5;124m'\u001B[39m\u001B[38;5;132;01m%s\u001B[39;00m\u001B[38;5;124m'\u001B[39m\u001B[38;5;124m of type \u001B[39m\u001B[38;5;124m'\u001B[39m\u001B[38;5;132;01m%s\u001B[39;00m\u001B[38;5;124m'\u001B[39m\u001B[38;5;124m\"\u001B[39m \u001B[38;5;241m%\u001B[39m (\u001B[38;5;28mstr\u001B[39m(expr), \u001B[38;5;28mstr\u001B[39m(\u001B[38;5;28mtype\u001B[39m(expr))))\n\u001B[0;32m--> 884\u001B[0m         \u001B[38;5;28;01mraise\u001B[39;00m \u001B[38;5;167;01mTypeError\u001B[39;00m(e)\n\u001B[1;32m    885\u001B[0m \u001B[38;5;28;01mreturn\u001B[39;00m jmap\n",
        "\u001B[0;31mTypeError\u001B[0m: Values of dict in 'set' in whenMatchedUpdate must contain only Spark SQL Columns or strings (expressions in SQL syntax) as values, found '2025-05-06 08:28:32.347000' of type '<class 'datetime.datetime'>'"
       ],
       "type": "baseError"
      }
     },
     "output_type": "display_data"
    }
   ],
   "source": [
    "# %sql\n",
    "# DROP TABLE cars_catalog.gold.dim_branch;"
   ]
  },
  {
   "cell_type": "code",
   "execution_count": 0,
   "metadata": {
    "application/vnd.databricks.v1+cell": {
     "cellMetadata": {
      "byteLimit": 2048000,
      "implicitDf": true,
      "rowLimit": 10000
     },
     "inputWidgets": {},
     "nuid": "d6284b73-f259-4cf5-af4e-2498a82663e2",
     "showTitle": false,
     "tableResultSettingsMap": {},
     "title": ""
    }
   },
   "outputs": [],
   "source": [
    "%sql\n",
    "SELECT * FROM cars_catalog.gold.dim_branch;"
   ]
  },
  {
   "cell_type": "code",
   "execution_count": 0,
   "metadata": {
    "application/vnd.databricks.v1+cell": {
     "cellMetadata": {
      "byteLimit": 2048000,
      "implicitDf": true,
      "rowLimit": 10000
     },
     "inputWidgets": {},
     "nuid": "419b59b4-cf33-4702-a64c-b8447c2db838",
     "showTitle": false,
     "tableResultSettingsMap": {},
     "title": ""
    }
   },
   "outputs": [
    {
     "output_type": "display_data",
     "data": {
      "text/html": [
       "<style scoped>\n",
       "  .table-result-container {\n",
       "    max-height: 300px;\n",
       "    overflow: auto;\n",
       "  }\n",
       "  table, th, td {\n",
       "    border: 1px solid black;\n",
       "    border-collapse: collapse;\n",
       "  }\n",
       "  th, td {\n",
       "    padding: 5px;\n",
       "  }\n",
       "  th {\n",
       "    text-align: left;\n",
       "  }\n",
       "</style><div class='table-result-container'><table class='table-result'><thead style='background-color: white'><tr><th>table_name</th><th>last_updated_time</th></tr></thead><tbody><tr><td>dim_test</td><td>2025-05-06T08:33:00.291Z</td></tr></tbody></table></div>"
      ]
     },
     "metadata": {
      "application/vnd.databricks.v1+output": {
       "addedWidgets": {},
       "aggData": [],
       "aggError": "",
       "aggOverflow": false,
       "aggSchema": [],
       "aggSeriesLimitReached": false,
       "aggType": "",
       "arguments": {},
       "columnCustomDisplayInfos": {},
       "data": [
        [
         "dim_test",
         "2025-05-06T08:33:00.291Z"
        ]
       ],
       "datasetInfos": [],
       "dbfsResultPath": null,
       "isJsonSchema": true,
       "metadata": {
        "createTempViewForImplicitDf": true,
        "dataframeName": "_sqldf",
        "executionCount": 88
       },
       "overflow": false,
       "plotOptions": {
        "customPlotOptions": {},
        "displayType": "table",
        "pivotAggregation": null,
        "pivotColumns": null,
        "xColumns": null,
        "yColumns": null
       },
       "removedWidgets": [],
       "schema": [
        {
         "metadata": "{}",
         "name": "table_name",
         "type": "\"string\""
        },
        {
         "metadata": "{}",
         "name": "last_updated_time",
         "type": "\"timestamp\""
        }
       ],
       "type": "table"
      }
     },
     "output_type": "display_data"
    }
   ],
   "source": [
    "%sql\n",
    "select * from cars_catalog.default.metadata_table"
   ]
  },
  {
   "cell_type": "code",
   "execution_count": 0,
   "metadata": {
    "application/vnd.databricks.v1+cell": {
     "cellMetadata": {
      "byteLimit": 2048000,
      "implicitDf": true,
      "rowLimit": 10000
     },
     "inputWidgets": {},
     "nuid": "6cc0077e-b1b0-4a83-95d8-e080f845ef9a",
     "showTitle": false,
     "tableResultSettingsMap": {},
     "title": ""
    }
   },
   "outputs": [
    {
     "output_type": "display_data",
     "data": {
      "text/html": [
       "<style scoped>\n",
       "  .table-result-container {\n",
       "    max-height: 300px;\n",
       "    overflow: auto;\n",
       "  }\n",
       "  table, th, td {\n",
       "    border: 1px solid black;\n",
       "    border-collapse: collapse;\n",
       "  }\n",
       "  th, td {\n",
       "    padding: 5px;\n",
       "  }\n",
       "  th {\n",
       "    text-align: left;\n",
       "  }\n",
       "</style><div class='table-result-container'><table class='table-result'><thead style='background-color: white'><tr></tr></thead><tbody></tbody></table></div>"
      ]
     },
     "metadata": {
      "application/vnd.databricks.v1+output": {
       "addedWidgets": {},
       "aggData": [],
       "aggError": "",
       "aggOverflow": false,
       "aggSchema": [],
       "aggSeriesLimitReached": false,
       "aggType": "",
       "arguments": {},
       "columnCustomDisplayInfos": {},
       "data": [],
       "datasetInfos": [],
       "dbfsResultPath": null,
       "isJsonSchema": true,
       "metadata": {
        "dataframeName": null
       },
       "overflow": false,
       "plotOptions": {
        "customPlotOptions": {},
        "displayType": "table",
        "pivotAggregation": null,
        "pivotColumns": null,
        "xColumns": null,
        "yColumns": null
       },
       "removedWidgets": [],
       "schema": [],
       "type": "table"
      }
     },
     "output_type": "display_data"
    }
   ],
   "source": [
    "# %sql\n",
    "# TRUNCATE TABLE cars_catalog.default.metadata_table;"
   ]
  }
 ],
 "metadata": {
  "application/vnd.databricks.v1+notebook": {
   "computePreferences": null,
   "dashboards": [],
   "environmentMetadata": {
    "base_environment": "",
    "environment_version": "2"
   },
   "inputWidgetPreferences": null,
   "language": "python",
   "notebookMetadata": {
    "mostRecentlyExecutedCommandWithImplicitDF": {
     "commandId": 3264902681140439,
     "dataframes": [
      "_sqldf"
     ]
    },
    "pythonIndentUnit": 4
   },
   "notebookName": "gold_dim_branch",
   "widgets": {
    "incremental_flag": {
     "currentValue": "1",
     "nuid": "9c48a3e2-d9e0-4e4f-8dda-81d4c67c62a2",
     "typedWidgetInfo": {
      "autoCreated": false,
      "defaultValue": "",
      "label": null,
      "name": "incremental_flag",
      "options": {
       "widgetDisplayType": "Text",
       "validationRegex": null
      },
      "parameterDataType": "String"
     },
     "widgetInfo": {
      "widgetType": "text",
      "defaultValue": "",
      "label": null,
      "name": "incremental_flag",
      "options": {
       "widgetType": "text",
       "autoCreated": null,
       "validationRegex": null
      }
     }
    },
    "ingestion_date": {
     "currentValue": "2025-05-01",
     "nuid": "84623424-b785-4dcb-85b4-7c470cf58d9c",
     "typedWidgetInfo": {
      "autoCreated": false,
      "defaultValue": "",
      "label": null,
      "name": "ingestion_date",
      "options": {
       "widgetDisplayType": "Text",
       "validationRegex": null
      },
      "parameterDataType": "String"
     },
     "widgetInfo": {
      "widgetType": "text",
      "defaultValue": "",
      "label": null,
      "name": "ingestion_date",
      "options": {
       "widgetType": "text",
       "autoCreated": null,
       "validationRegex": null
      }
     }
    }
   }
  },
  "language_info": {
   "name": "python"
  }
 },
 "nbformat": 4,
 "nbformat_minor": 0
}