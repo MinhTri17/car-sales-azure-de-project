{
 "cells": [
  {
   "cell_type": "code",
   "execution_count": 0,
   "metadata": {
    "application/vnd.databricks.v1+cell": {
     "cellMetadata": {
      "byteLimit": 2048000,
      "rowLimit": 10000
     },
     "inputWidgets": {},
     "nuid": "f945ff56-aa10-438c-9709-06f82305b4a0",
     "showTitle": false,
     "tableResultSettingsMap": {},
     "title": ""
    }
   },
   "outputs": [],
   "source": [
    "from pyspark.sql.functions import col"
   ]
  },
  {
   "cell_type": "code",
   "execution_count": 0,
   "metadata": {
    "application/vnd.databricks.v1+cell": {
     "cellMetadata": {
      "byteLimit": 2048000,
      "rowLimit": 10000
     },
     "inputWidgets": {},
     "nuid": "3b59c14e-85fe-44db-8668-15103700db99",
     "showTitle": false,
     "tableResultSettingsMap": {},
     "title": ""
    }
   },
   "outputs": [],
   "source": [
    "%run \"../includes/common_functions\""
   ]
  },
  {
   "cell_type": "code",
   "execution_count": 0,
   "metadata": {
    "application/vnd.databricks.v1+cell": {
     "cellMetadata": {
      "byteLimit": 2048000,
      "rowLimit": 10000
     },
     "inputWidgets": {},
     "nuid": "415681d1-d861-432f-9851-96c0aaa2d36f",
     "showTitle": false,
     "tableResultSettingsMap": {},
     "title": ""
    }
   },
   "outputs": [
    {
     "output_type": "display_data",
     "data": {
      "text/plain": [
       "\u001B[0;31m---------------------------------------------------------------------------\u001B[0m\n",
       "\u001B[0;31mIndexError\u001B[0m                                Traceback (most recent call last)\n",
       "File \u001B[0;32m<command-4430124732203713>, line 1\u001B[0m\n",
       "\u001B[0;32m----> 1\u001B[0m latest_update \u001B[38;5;241m=\u001B[39m spark\u001B[38;5;241m.\u001B[39msql(\u001B[38;5;124m\"\"\"\u001B[39m\u001B[38;5;124mselect * \u001B[39m\n",
       "\u001B[1;32m      2\u001B[0m \u001B[38;5;124m                          from cars_catalog.default.metadata_table\u001B[39m\n",
       "\u001B[1;32m      3\u001B[0m \u001B[38;5;124m                          where table_name = \u001B[39m\u001B[38;5;124m'\u001B[39m\u001B[38;5;124mdim_date\u001B[39m\u001B[38;5;124m'\u001B[39m\u001B[38;5;124m \u001B[39m\n",
       "\u001B[1;32m      4\u001B[0m \u001B[38;5;124m                          \u001B[39m\u001B[38;5;124m\"\"\"\u001B[39m)\u001B[38;5;241m.\u001B[39mcollect()[\u001B[38;5;241m0\u001B[39m][\u001B[38;5;241m1\u001B[39m]\n",
       "\u001B[1;32m      5\u001B[0m latest_update\n",
       "\n",
       "\u001B[0;31mIndexError\u001B[0m: list index out of range"
      ]
     },
     "metadata": {
      "application/vnd.databricks.v1+output": {
       "addedWidgets": {},
       "arguments": {},
       "datasetInfos": [],
       "jupyterProps": {
        "ename": "IndexError",
        "evalue": "list index out of range"
       },
       "metadata": {
        "errorSummary": "<span class='ansi-red-fg'>IndexError</span>: list index out of range"
       },
       "removedWidgets": [],
       "sqlProps": null,
       "stackFrames": [
        "\u001B[0;31m---------------------------------------------------------------------------\u001B[0m",
        "\u001B[0;31mIndexError\u001B[0m                                Traceback (most recent call last)",
        "File \u001B[0;32m<command-4430124732203713>, line 1\u001B[0m\n\u001B[0;32m----> 1\u001B[0m latest_update \u001B[38;5;241m=\u001B[39m spark\u001B[38;5;241m.\u001B[39msql(\u001B[38;5;124m\"\"\"\u001B[39m\u001B[38;5;124mselect * \u001B[39m\n\u001B[1;32m      2\u001B[0m \u001B[38;5;124m                          from cars_catalog.default.metadata_table\u001B[39m\n\u001B[1;32m      3\u001B[0m \u001B[38;5;124m                          where table_name = \u001B[39m\u001B[38;5;124m'\u001B[39m\u001B[38;5;124mdim_date\u001B[39m\u001B[38;5;124m'\u001B[39m\u001B[38;5;124m \u001B[39m\n\u001B[1;32m      4\u001B[0m \u001B[38;5;124m                          \u001B[39m\u001B[38;5;124m\"\"\"\u001B[39m)\u001B[38;5;241m.\u001B[39mcollect()[\u001B[38;5;241m0\u001B[39m][\u001B[38;5;241m1\u001B[39m]\n\u001B[1;32m      5\u001B[0m latest_update\n",
        "\u001B[0;31mIndexError\u001B[0m: list index out of range"
       ],
       "type": "baseError"
      }
     },
     "output_type": "display_data"
    }
   ],
   "source": [
    "latest_update = spark.sql(\"\"\"select * \n",
    "                          from cars_catalog.default.metadata_table\n",
    "                          where table_name = 'dim_branch' \n",
    "                          \"\"\").collect()[0][1]\n",
    "latest_update"
   ]
  },
  {
   "cell_type": "code",
   "execution_count": 0,
   "metadata": {
    "application/vnd.databricks.v1+cell": {
     "cellMetadata": {
      "byteLimit": 2048000,
      "rowLimit": 10000
     },
     "inputWidgets": {},
     "nuid": "ebffba65-9ce2-4701-af60-5ce9da24a9f8",
     "showTitle": false,
     "tableResultSettingsMap": {},
     "title": ""
    }
   },
   "outputs": [],
   "source": [
    "dim_table = spark.read.format(\"delta\") \\\n",
    "                        .load(\"abfss://gold@cardeprojectdl.dfs.core.windows.net/dim_branch\") \\\n",
    "                        .filter(col(\"updated_at\") == latest_update)"
   ]
  },
  {
   "cell_type": "code",
   "execution_count": 0,
   "metadata": {
    "application/vnd.databricks.v1+cell": {
     "cellMetadata": {
      "byteLimit": 2048000,
      "rowLimit": 10000
     },
     "inputWidgets": {},
     "nuid": "fe25dbb9-1714-4120-9a74-b0a53e7c7860",
     "showTitle": false,
     "tableResultSettingsMap": {},
     "title": ""
    }
   },
   "outputs": [
    {
     "output_type": "display_data",
     "data": {
      "text/html": [
       "<style scoped>\n",
       "  .table-result-container {\n",
       "    max-height: 300px;\n",
       "    overflow: auto;\n",
       "  }\n",
       "  table, th, td {\n",
       "    border: 1px solid black;\n",
       "    border-collapse: collapse;\n",
       "  }\n",
       "  th, td {\n",
       "    padding: 5px;\n",
       "  }\n",
       "  th {\n",
       "    text-align: left;\n",
       "  }\n",
       "</style><div class='table-result-container'><table class='table-result'><thead style='background-color: white'><tr><th>Branch_ID</th><th>BranchName</th><th>updated_at</th><th>dim_branch_key</th></tr></thead><tbody><tr><td>BR9546</td><td>Premier Motors</td><td>2025-05-06T08:33:00.291Z</td><td>1837</td></tr><tr><td>BR9666</td><td>Puma Motors</td><td>2025-05-06T08:33:00.291Z</td><td>1838</td></tr><tr><td>XYZ9726</td><td>DataFam Motors</td><td>2025-05-06T08:33:00.291Z</td><td>1839</td></tr><tr><td>BR9726</td><td>Power Ranger Motors</td><td>2025-05-06T08:33:00.291Z</td><td>1840</td></tr></tbody></table></div>"
      ]
     },
     "metadata": {
      "application/vnd.databricks.v1+output": {
       "addedWidgets": {},
       "aggData": [],
       "aggError": "",
       "aggOverflow": false,
       "aggSchema": [],
       "aggSeriesLimitReached": false,
       "aggType": "",
       "arguments": {},
       "columnCustomDisplayInfos": {},
       "data": [
        [
         "BR9546",
         "Premier Motors",
         "2025-05-06T08:33:00.291Z",
         1837
        ],
        [
         "BR9666",
         "Puma Motors",
         "2025-05-06T08:33:00.291Z",
         1838
        ],
        [
         "XYZ9726",
         "DataFam Motors",
         "2025-05-06T08:33:00.291Z",
         1839
        ],
        [
         "BR9726",
         "Power Ranger Motors",
         "2025-05-06T08:33:00.291Z",
         1840
        ]
       ],
       "datasetInfos": [],
       "dbfsResultPath": null,
       "isJsonSchema": true,
       "metadata": {},
       "overflow": false,
       "plotOptions": {
        "customPlotOptions": {},
        "displayType": "table",
        "pivotAggregation": null,
        "pivotColumns": null,
        "xColumns": null,
        "yColumns": null
       },
       "removedWidgets": [],
       "schema": [
        {
         "metadata": "{}",
         "name": "Branch_ID",
         "type": "\"string\""
        },
        {
         "metadata": "{}",
         "name": "BranchName",
         "type": "\"string\""
        },
        {
         "metadata": "{}",
         "name": "updated_at",
         "type": "\"timestamp\""
        },
        {
         "metadata": "{}",
         "name": "dim_branch_key",
         "type": "\"long\""
        }
       ],
       "type": "table"
      }
     },
     "output_type": "display_data"
    }
   ],
   "source": [
    "dim_table.display()"
   ]
  },
  {
   "cell_type": "code",
   "execution_count": 0,
   "metadata": {
    "application/vnd.databricks.v1+cell": {
     "cellMetadata": {
      "byteLimit": 2048000,
      "rowLimit": 10000
     },
     "inputWidgets": {},
     "nuid": "2c2ce767-3c86-43c5-98f8-8910c0583e08",
     "showTitle": false,
     "tableResultSettingsMap": {},
     "title": ""
    }
   },
   "outputs": [],
   "source": [
    "sql_create_table = \"\"\"\n",
    "    CREATE TABLE IF NOT EXISTS CARSALES_PROJECT.DW.dim_branch (\n",
    "        BranchName STRING,\n",
    "        Branch_ID STRING,\n",
    "        dim_branch_key NUMBER,\n",
    "        updated_at TIMESTAMP\n",
    "    )\n",
    "\n",
    "\"\"\""
   ]
  },
  {
   "cell_type": "code",
   "execution_count": 0,
   "metadata": {
    "application/vnd.databricks.v1+cell": {
     "cellMetadata": {
      "byteLimit": 2048000,
      "rowLimit": 10000
     },
     "inputWidgets": {},
     "nuid": "44557081-249c-45bf-95ea-c00c0fc3cd37",
     "showTitle": false,
     "tableResultSettingsMap": {},
     "title": ""
    }
   },
   "outputs": [],
   "source": [
    "sql_merging = \"\"\"\n",
    "            MERGE INTO CARSALES_PROJECT.DW.DIM_BRANCH AS tar\n",
    "            USING CARSALES_PROJECT.EXTERNAL_STAGE.STG_DIM_BRANCH AS src\n",
    "            ON tar.dim_branch_key = src.dim_branch_key\n",
    "            WHEN MATCHED THEN\n",
    "                UPDATE SET tar.BranchName = src.BranchName,\n",
    "                            tar.Branch_ID = src.Branch_ID,\n",
    "                            tar.updated_at = src.updated_at\n",
    "            WHEN NOT MATCHED THEN   \n",
    "                INSERT (Branch_ID, BranchName, dim_branch_key, updated_at) VALUES (src.Branch_ID, src.BranchName, src.dim_branch_key, src.updated_at)\n",
    "\"\"\""
   ]
  },
  {
   "cell_type": "code",
   "execution_count": 0,
   "metadata": {
    "application/vnd.databricks.v1+cell": {
     "cellMetadata": {},
     "inputWidgets": {},
     "nuid": "4beb21c8-12ca-4f4d-8b67-bea88f86a67a",
     "showTitle": false,
     "tableResultSettingsMap": {},
     "title": ""
    }
   },
   "outputs": [],
   "source": [
    "write_to_snowflake(dim_table,\"STG_DIM_BRANCH\",sql_create_table,sql_merging)"
   ]
  }
 ],
 "metadata": {
  "application/vnd.databricks.v1+notebook": {
   "computePreferences": null,
   "dashboards": [],
   "environmentMetadata": {
    "base_environment": "",
    "environment_version": "2"
   },
   "inputWidgetPreferences": null,
   "language": "python",
   "notebookMetadata": {
    "pythonIndentUnit": 4
   },
   "notebookName": "sf_dim_branch",
   "widgets": {}
  },
  "language_info": {
   "name": "python"
  }
 },
 "nbformat": 4,
 "nbformat_minor": 0
}