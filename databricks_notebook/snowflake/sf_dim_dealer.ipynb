{
 "cells": [
  {
   "cell_type": "code",
   "execution_count": 0,
   "metadata": {
    "application/vnd.databricks.v1+cell": {
     "cellMetadata": {
      "byteLimit": 2048000,
      "rowLimit": 10000
     },
     "inputWidgets": {},
     "nuid": "f945ff56-aa10-438c-9709-06f82305b4a0",
     "showTitle": false,
     "tableResultSettingsMap": {},
     "title": ""
    }
   },
   "outputs": [],
   "source": [
    "from pyspark.sql.functions import col"
   ]
  },
  {
   "cell_type": "code",
   "execution_count": 0,
   "metadata": {
    "application/vnd.databricks.v1+cell": {
     "cellMetadata": {
      "byteLimit": 2048000,
      "rowLimit": 10000
     },
     "inputWidgets": {},
     "nuid": "3b59c14e-85fe-44db-8668-15103700db99",
     "showTitle": false,
     "tableResultSettingsMap": {},
     "title": ""
    }
   },
   "outputs": [],
   "source": [
    "%run \"../includes/common_functions\""
   ]
  },
  {
   "cell_type": "code",
   "execution_count": 0,
   "metadata": {
    "application/vnd.databricks.v1+cell": {
     "cellMetadata": {
      "byteLimit": 2048000,
      "rowLimit": 10000
     },
     "inputWidgets": {},
     "nuid": "415681d1-d861-432f-9851-96c0aaa2d36f",
     "showTitle": false,
     "tableResultSettingsMap": {},
     "title": ""
    }
   },
   "outputs": [
    {
     "output_type": "execute_result",
     "data": {
      "text/plain": [
       "datetime.datetime(2025, 5, 6, 14, 56, 3, 186000)"
      ]
     },
     "execution_count": 3,
     "metadata": {},
     "output_type": "execute_result"
    }
   ],
   "source": [
    "latest_update = spark.sql(\"\"\"select * \n",
    "                          from cars_catalog.default.metadata_table\n",
    "                          where table_name = 'dim_dealer' \n",
    "                          \"\"\").collect()[0][1]\n",
    "latest_update"
   ]
  },
  {
   "cell_type": "code",
   "execution_count": 0,
   "metadata": {
    "application/vnd.databricks.v1+cell": {
     "cellMetadata": {
      "byteLimit": 2048000,
      "rowLimit": 10000
     },
     "inputWidgets": {},
     "nuid": "ebffba65-9ce2-4701-af60-5ce9da24a9f8",
     "showTitle": false,
     "tableResultSettingsMap": {},
     "title": ""
    }
   },
   "outputs": [],
   "source": [
    "dim_table = spark.read.format(\"delta\") \\\n",
    "                        .load(\"abfss://gold@cardeprojectdl.dfs.core.windows.net/dim_dealer\") \\\n",
    "                        .filter(col(\"updated_at\") == latest_update)"
   ]
  },
  {
   "cell_type": "code",
   "execution_count": 0,
   "metadata": {
    "application/vnd.databricks.v1+cell": {
     "cellMetadata": {
      "byteLimit": 2048000,
      "rowLimit": 10000
     },
     "inputWidgets": {},
     "nuid": "fe25dbb9-1714-4120-9a74-b0a53e7c7860",
     "showTitle": false,
     "tableResultSettingsMap": {},
     "title": ""
    }
   },
   "outputs": [
    {
     "output_type": "display_data",
     "data": {
      "text/html": [
       "<style scoped>\n",
       "  .table-result-container {\n",
       "    max-height: 300px;\n",
       "    overflow: auto;\n",
       "  }\n",
       "  table, th, td {\n",
       "    border: 1px solid black;\n",
       "    border-collapse: collapse;\n",
       "  }\n",
       "  th, td {\n",
       "    padding: 5px;\n",
       "  }\n",
       "  th {\n",
       "    text-align: left;\n",
       "  }\n",
       "</style><div class='table-result-container'><table class='table-result'><thead style='background-color: white'><tr><th>Dealer_ID</th><th>DealerName</th><th>updated_at</th><th>dim_dealer_key</th></tr></thead><tbody><tr><td>DLR0062</td><td>Ford Australia Motors</td><td>2025-05-06 14:56:03.186000</td><td>71</td></tr><tr><td>DLR0063</td><td>Ford do Brasil Motors</td><td>2025-05-06 14:56:03.186000</td><td>233</td></tr><tr><td>DLR0060</td><td>Fisker, Karma Motors</td><td>2025-05-06 14:56:03.186000</td><td>137</td></tr><tr><td>XYZ0063</td><td>Datafam Dealers</td><td>2025-05-06 14:56:03.186000</td><td>268</td></tr></tbody></table></div>"
      ]
     },
     "metadata": {
      "application/vnd.databricks.v1+output": {
       "addedWidgets": {},
       "aggData": [],
       "aggError": "",
       "aggOverflow": false,
       "aggSchema": [],
       "aggSeriesLimitReached": false,
       "aggType": "",
       "arguments": {},
       "columnCustomDisplayInfos": {},
       "data": [
        [
         "DLR0062",
         "Ford Australia Motors",
         "2025-05-06 14:56:03.186000",
         71
        ],
        [
         "DLR0063",
         "Ford do Brasil Motors",
         "2025-05-06 14:56:03.186000",
         233
        ],
        [
         "DLR0060",
         "Fisker, Karma Motors",
         "2025-05-06 14:56:03.186000",
         137
        ],
        [
         "XYZ0063",
         "Datafam Dealers",
         "2025-05-06 14:56:03.186000",
         268
        ]
       ],
       "datasetInfos": [],
       "dbfsResultPath": null,
       "isJsonSchema": true,
       "metadata": {},
       "overflow": false,
       "plotOptions": {
        "customPlotOptions": {},
        "displayType": "table",
        "pivotAggregation": null,
        "pivotColumns": null,
        "xColumns": null,
        "yColumns": null
       },
       "removedWidgets": [],
       "schema": [
        {
         "metadata": "{}",
         "name": "Dealer_ID",
         "type": "\"string\""
        },
        {
         "metadata": "{}",
         "name": "DealerName",
         "type": "\"string\""
        },
        {
         "metadata": "{}",
         "name": "updated_at",
         "type": "\"string\""
        },
        {
         "metadata": "{}",
         "name": "dim_dealer_key",
         "type": "\"long\""
        }
       ],
       "type": "table"
      }
     },
     "output_type": "display_data"
    }
   ],
   "source": [
    "dim_table.display()"
   ]
  },
  {
   "cell_type": "code",
   "execution_count": 0,
   "metadata": {
    "application/vnd.databricks.v1+cell": {
     "cellMetadata": {
      "byteLimit": 2048000,
      "rowLimit": 10000
     },
     "inputWidgets": {},
     "nuid": "2c2ce767-3c86-43c5-98f8-8910c0583e08",
     "showTitle": false,
     "tableResultSettingsMap": {},
     "title": ""
    }
   },
   "outputs": [],
   "source": [
    "sql_create_table = \"\"\"\n",
    "    CREATE TABLE IF NOT EXISTS CARSALES_PROJECT.DW.dim_dealer (\n",
    "        DealerName STRING,\n",
    "        Dealer_ID STRING,\n",
    "        dim_dealer_key NUMBER,\n",
    "        updated_at TIMESTAMP\n",
    "    )\n",
    "\n",
    "\"\"\""
   ]
  },
  {
   "cell_type": "code",
   "execution_count": 0,
   "metadata": {
    "application/vnd.databricks.v1+cell": {
     "cellMetadata": {
      "byteLimit": 2048000,
      "rowLimit": 10000
     },
     "inputWidgets": {},
     "nuid": "44557081-249c-45bf-95ea-c00c0fc3cd37",
     "showTitle": false,
     "tableResultSettingsMap": {},
     "title": ""
    }
   },
   "outputs": [],
   "source": [
    "sql_merging = \"\"\"\n",
    "            MERGE INTO CARSALES_PROJECT.DW.dim_dealer AS tar\n",
    "            USING CARSALES_PROJECT.EXTERNAL_STAGE.STG_DIM_DEALER AS src\n",
    "            ON tar.dim_dealer_key = src.dim_dealer_key\n",
    "            WHEN MATCHED THEN\n",
    "                UPDATE SET tar.DealerName = src.DealerName,\n",
    "                            tar.Dealer_ID = src.Dealer_ID,\n",
    "                            tar.updated_at = src.updated_at\n",
    "            WHEN NOT MATCHED THEN   \n",
    "                INSERT (Dealer_ID, DealerName, dim_dealer_key, updated_at) VALUES (src.Dealer_ID, src.DealerName, src.dim_dealer_key, src.updated_at)\n",
    "\"\"\""
   ]
  },
  {
   "cell_type": "code",
   "execution_count": 0,
   "metadata": {
    "application/vnd.databricks.v1+cell": {
     "cellMetadata": {
      "byteLimit": 2048000,
      "rowLimit": 10000
     },
     "inputWidgets": {},
     "nuid": "4beb21c8-12ca-4f4d-8b67-bea88f86a67a",
     "showTitle": false,
     "tableResultSettingsMap": {},
     "title": ""
    }
   },
   "outputs": [],
   "source": [
    "write_to_snowflake(dim_table,\"STG_DIM_DEALER\",sql_create_table,sql_merging)"
   ]
  }
 ],
 "metadata": {
  "application/vnd.databricks.v1+notebook": {
   "computePreferences": null,
   "dashboards": [],
   "environmentMetadata": {
    "base_environment": "",
    "environment_version": "2"
   },
   "inputWidgetPreferences": null,
   "language": "python",
   "notebookMetadata": {
    "pythonIndentUnit": 4
   },
   "notebookName": "sf_dim_dealer",
   "widgets": {}
  },
  "language_info": {
   "name": "python"
  }
 },
 "nbformat": 4,
 "nbformat_minor": 0
}