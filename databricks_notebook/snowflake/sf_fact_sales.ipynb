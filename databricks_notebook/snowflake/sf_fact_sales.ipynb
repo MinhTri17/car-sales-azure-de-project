{
 "cells": [
  {
   "cell_type": "code",
   "execution_count": 0,
   "metadata": {
    "application/vnd.databricks.v1+cell": {
     "cellMetadata": {
      "byteLimit": 2048000,
      "rowLimit": 10000
     },
     "inputWidgets": {},
     "nuid": "f945ff56-aa10-438c-9709-06f82305b4a0",
     "showTitle": false,
     "tableResultSettingsMap": {},
     "title": ""
    }
   },
   "outputs": [],
   "source": [
    "from pyspark.sql.functions import col"
   ]
  },
  {
   "cell_type": "code",
   "execution_count": 0,
   "metadata": {
    "application/vnd.databricks.v1+cell": {
     "cellMetadata": {
      "byteLimit": 2048000,
      "rowLimit": 10000
     },
     "inputWidgets": {},
     "nuid": "3b59c14e-85fe-44db-8668-15103700db99",
     "showTitle": false,
     "tableResultSettingsMap": {},
     "title": ""
    }
   },
   "outputs": [],
   "source": [
    "%run \"../includes/common_functions\""
   ]
  },
  {
   "cell_type": "code",
   "execution_count": 0,
   "metadata": {
    "application/vnd.databricks.v1+cell": {
     "cellMetadata": {
      "byteLimit": 2048000,
      "rowLimit": 10000
     },
     "inputWidgets": {},
     "nuid": "415681d1-d861-432f-9851-96c0aaa2d36f",
     "showTitle": false,
     "tableResultSettingsMap": {},
     "title": ""
    }
   },
   "outputs": [
    {
     "output_type": "execute_result",
     "data": {
      "text/plain": [
       "datetime.datetime(2025, 5, 7, 8, 20, 2, 865000)"
      ]
     },
     "execution_count": 13,
     "metadata": {},
     "output_type": "execute_result"
    }
   ],
   "source": [
    "latest_update = spark.sql(\"\"\"select * \n",
    "                          from cars_catalog.default.metadata_table\n",
    "                          where table_name = 'fact_sales' \n",
    "                          \"\"\").collect()[0][1]\n",
    "latest_update"
   ]
  },
  {
   "cell_type": "code",
   "execution_count": 0,
   "metadata": {
    "application/vnd.databricks.v1+cell": {
     "cellMetadata": {
      "byteLimit": 2048000,
      "rowLimit": 10000
     },
     "inputWidgets": {},
     "nuid": "ebffba65-9ce2-4701-af60-5ce9da24a9f8",
     "showTitle": false,
     "tableResultSettingsMap": {},
     "title": ""
    }
   },
   "outputs": [],
   "source": [
    "fact_table = spark.read.format(\"delta\") \\\n",
    "                        .load(\"abfss://gold@cardeprojectdl.dfs.core.windows.net/fact_sales\") \\\n",
    "                        .filter(col(\"updated_at\") == latest_update)"
   ]
  },
  {
   "cell_type": "code",
   "execution_count": 0,
   "metadata": {
    "application/vnd.databricks.v1+cell": {
     "cellMetadata": {
      "byteLimit": 2048000,
      "rowLimit": 10000
     },
     "inputWidgets": {},
     "nuid": "fe25dbb9-1714-4120-9a74-b0a53e7c7860",
     "showTitle": false,
     "tableResultSettingsMap": {},
     "title": ""
    }
   },
   "outputs": [],
   "source": [
    "fact_table.display()"
   ]
  },
  {
   "cell_type": "code",
   "execution_count": 0,
   "metadata": {
    "application/vnd.databricks.v1+cell": {
     "cellMetadata": {
      "byteLimit": 2048000,
      "rowLimit": 10000
     },
     "inputWidgets": {},
     "nuid": "2c2ce767-3c86-43c5-98f8-8910c0583e08",
     "showTitle": false,
     "tableResultSettingsMap": {},
     "title": ""
    }
   },
   "outputs": [],
   "source": [
    "sql_create_table = \"\"\"\n",
    "    CREATE TABLE IF NOT EXISTS CARSALES_PROJECT.DW.fact_sales (\n",
    "        Revenue NUMBER,\n",
    "        Units_Sold NUMBER,\n",
    "        RevPerUnit DOUBLE,\n",
    "        dim_branch_key NUMBER,\n",
    "        dim_dealer_key NUMBER,\n",
    "        dim_date_key NUMBER,\n",
    "        dim_model_key NUMBER,\n",
    "        updated_at TIMESTAMP\n",
    "    )\n",
    "\n",
    "\"\"\""
   ]
  },
  {
   "cell_type": "code",
   "execution_count": 0,
   "metadata": {
    "application/vnd.databricks.v1+cell": {
     "cellMetadata": {
      "byteLimit": 2048000,
      "rowLimit": 10000
     },
     "inputWidgets": {},
     "nuid": "44557081-249c-45bf-95ea-c00c0fc3cd37",
     "showTitle": false,
     "tableResultSettingsMap": {},
     "title": ""
    }
   },
   "outputs": [],
   "source": [
    "sql_merging = \"\"\"\n",
    "            MERGE INTO CARSALES_PROJECT.DW.fact_sales AS tar\n",
    "            USING CARSALES_PROJECT.EXTERNAL_STAGE.STG_FACT_SALES AS src\n",
    "            ON tar.dim_model_key = src.dim_model_key and tar.dim_dealer_key = src.dim_dealer_key and tar.dim_branch_key = src.dim_branch_key and tar.dim_date_key = src.dim_date_key\n",
    "            WHEN MATCHED THEN\n",
    "                UPDATE SET tar.Revenue = src.Revenue,\n",
    "                            tar.Units_Sold = src.Units_Sold,\n",
    "                            tar.RevPerUnit = src.RevPerUnit,\n",
    "                            tar.updated_at = src.updated_at\n",
    "\n",
    "            WHEN NOT MATCHED THEN   \n",
    "                INSERT (Revenue, Units_Sold, RevPerUnit, dim_branch_key, dim_dealer_key, dim_date_key, dim_model_key, updated_at) VALUES (src.Revenue, src.Units_Sold, src.RevPerUnit, src.dim_branch_key, src.dim_dealer_key, src.dim_date_key, src.dim_model_key,  src.updated_at)\n",
    "\"\"\""
   ]
  },
  {
   "cell_type": "code",
   "execution_count": 0,
   "metadata": {
    "application/vnd.databricks.v1+cell": {
     "cellMetadata": {
      "byteLimit": 2048000,
      "rowLimit": 10000
     },
     "inputWidgets": {},
     "nuid": "4beb21c8-12ca-4f4d-8b67-bea88f86a67a",
     "showTitle": false,
     "tableResultSettingsMap": {},
     "title": ""
    }
   },
   "outputs": [],
   "source": [
    "write_to_snowflake(fact_table,\"STG_FACT_SALES\",sql_create_table,sql_merging)"
   ]
  }
 ],
 "metadata": {
  "application/vnd.databricks.v1+notebook": {
   "computePreferences": null,
   "dashboards": [],
   "environmentMetadata": {
    "base_environment": "",
    "environment_version": "2"
   },
   "inputWidgetPreferences": null,
   "language": "python",
   "notebookMetadata": {
    "mostRecentlyExecutedCommandWithImplicitDF": {
     "commandId": 7285569162802604,
     "dataframes": [
      "_sqldf"
     ]
    },
    "pythonIndentUnit": 4
   },
   "notebookName": "sf_fact_sales",
   "widgets": {}
  },
  "language_info": {
   "name": "python"
  }
 },
 "nbformat": 4,
 "nbformat_minor": 0
}