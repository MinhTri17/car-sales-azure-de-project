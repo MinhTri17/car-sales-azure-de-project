{
 "cells": [
  {
   "cell_type": "code",
   "execution_count": 0,
   "metadata": {
    "application/vnd.databricks.v1+cell": {
     "cellMetadata": {
      "byteLimit": 2048000,
      "rowLimit": 10000
     },
     "inputWidgets": {},
     "nuid": "beeba66c-2623-45f2-abb5-40f6c56ae463",
     "showTitle": false,
     "tableResultSettingsMap": {},
     "title": ""
    }
   },
   "outputs": [],
   "source": [
    "def write_to_snowflake(gold_table,staging_name, sql_create_table, sql_merging):\n",
    "    from snowflake.connector import connect\n",
    "\n",
    "    user = dbutils.secrets.get(scope='carsales-scope', key ='sf-username')\n",
    "    password = dbutils.secrets.get(scope='carsales-scope', key ='sf-password')\n",
    "\n",
    "    options = {\n",
    "        \"sfUrl\": \"QAKIGEH-WD90829.snowflakecomputing.com\",\n",
    "        \"sfUser\": user,\n",
    "        \"sfPassword\": password,\n",
    "        \"sfDatabase\": \"CARSALES_PROJECT\",\n",
    "        \"sfSchema\": \"EXTERNAL_STAGE\",\n",
    "        \"sfWarehouse\": \"COMPUTE_WH\"\n",
    "    }\n",
    "\n",
    "\n",
    "    gold_table.write.format(\"snowflake\") \\\n",
    "                .options(**options) \\\n",
    "                .option(\"dbtable\",staging_name) \\\n",
    "                .option(\"db\", \"CARSALES_PROJECT\") \\\n",
    "                .mode(\"overwrite\") \\\n",
    "                .save()\n",
    "\n",
    "    conn = connect(\n",
    "        user=user,\n",
    "        password=password,\n",
    "        account=\"QAKIGEH-WD90829\",\n",
    "        warehouse=\"COMPUTE_WH\",\n",
    "        database=\"CARSALES_PROJECT\",\n",
    "        schema=\"EXTERNAL_STAGE\"\n",
    "    )\n",
    "    \n",
    "    cursor = conn.cursor()\n",
    "    cursor.execute(sql_create_table)\n",
    "    cursor.execute(sql_merging)"
   ]
  },
  {
   "cell_type": "code",
   "execution_count": 0,
   "metadata": {
    "application/vnd.databricks.v1+cell": {
     "cellMetadata": {
      "byteLimit": 2048000,
      "implicitDf": true,
      "rowLimit": 10000
     },
     "inputWidgets": {},
     "nuid": "528558c2-e86f-4450-8cb2-6d2150fcec3f",
     "showTitle": false,
     "tableResultSettingsMap": {},
     "title": ""
    }
   },
   "outputs": [
    {
     "output_type": "display_data",
     "data": {
      "text/html": [
       "<style scoped>\n",
       "  .table-result-container {\n",
       "    max-height: 300px;\n",
       "    overflow: auto;\n",
       "  }\n",
       "  table, th, td {\n",
       "    border: 1px solid black;\n",
       "    border-collapse: collapse;\n",
       "  }\n",
       "  th, td {\n",
       "    padding: 5px;\n",
       "  }\n",
       "  th {\n",
       "    text-align: left;\n",
       "  }\n",
       "</style><div class='table-result-container'><table class='table-result'><thead style='background-color: white'><tr></tr></thead><tbody></tbody></table></div>"
      ]
     },
     "metadata": {
      "application/vnd.databricks.v1+output": {
       "addedWidgets": {},
       "aggData": [],
       "aggError": "",
       "aggOverflow": false,
       "aggSchema": [],
       "aggSeriesLimitReached": false,
       "aggType": "",
       "arguments": {},
       "columnCustomDisplayInfos": {},
       "data": [],
       "datasetInfos": [],
       "dbfsResultPath": null,
       "isJsonSchema": true,
       "metadata": {
        "dataframeName": null
       },
       "overflow": false,
       "plotOptions": {
        "customPlotOptions": {},
        "displayType": "table",
        "pivotAggregation": null,
        "pivotColumns": null,
        "xColumns": null,
        "yColumns": null
       },
       "removedWidgets": [],
       "schema": [],
       "type": "table"
      }
     },
     "output_type": "display_data"
    }
   ],
   "source": [
    "# %sql\n",
    "# use catalog cars_catalog;\n",
    "# use schema gold;\n",
    "# DROP TABLE IF EXISTS dim_branch;\n",
    "# DROP TABLE IF EXISTS dim_date;\n",
    "# DROP TABLE IF EXISTS dim_dealer;\n",
    "# DROP TABLE IF EXISTS dim_model;\n",
    "# DROP TABLE IF EXISTS fact_sales;\n",
    "# use schema silver;\n",
    "# drop table if exists silver.silver_table;"
   ]
  },
  {
   "cell_type": "code",
   "execution_count": 0,
   "metadata": {
    "application/vnd.databricks.v1+cell": {
     "cellMetadata": {
      "byteLimit": 2048000,
      "implicitDf": true,
      "rowLimit": 10000
     },
     "inputWidgets": {},
     "nuid": "0f5f5c4d-a49e-46aa-a0cf-46bcc8dbdabe",
     "showTitle": false,
     "tableResultSettingsMap": {},
     "title": ""
    }
   },
   "outputs": [
    {
     "output_type": "display_data",
     "data": {
      "text/html": [
       "<style scoped>\n",
       "  .table-result-container {\n",
       "    max-height: 300px;\n",
       "    overflow: auto;\n",
       "  }\n",
       "  table, th, td {\n",
       "    border: 1px solid black;\n",
       "    border-collapse: collapse;\n",
       "  }\n",
       "  th, td {\n",
       "    padding: 5px;\n",
       "  }\n",
       "  th {\n",
       "    text-align: left;\n",
       "  }\n",
       "</style><div class='table-result-container'><table class='table-result'><thead style='background-color: white'><tr></tr></thead><tbody></tbody></table></div>"
      ]
     },
     "metadata": {
      "application/vnd.databricks.v1+output": {
       "addedWidgets": {},
       "aggData": [],
       "aggError": "",
       "aggOverflow": false,
       "aggSchema": [],
       "aggSeriesLimitReached": false,
       "aggType": "",
       "arguments": {},
       "columnCustomDisplayInfos": {},
       "data": [],
       "datasetInfos": [],
       "dbfsResultPath": null,
       "isJsonSchema": true,
       "metadata": {
        "dataframeName": null
       },
       "overflow": false,
       "plotOptions": {
        "customPlotOptions": {},
        "displayType": "table",
        "pivotAggregation": null,
        "pivotColumns": null,
        "xColumns": null,
        "yColumns": null
       },
       "removedWidgets": [],
       "schema": [],
       "type": "table"
      }
     },
     "output_type": "display_data"
    }
   ],
   "source": [
    "# %sql\n",
    "# truncate table cars_catalog.default.metadata_table"
   ]
  }
 ],
 "metadata": {
  "application/vnd.databricks.v1+notebook": {
   "computePreferences": null,
   "dashboards": [],
   "environmentMetadata": {
    "base_environment": "",
    "environment_version": "2"
   },
   "inputWidgetPreferences": null,
   "language": "python",
   "notebookMetadata": {
    "mostRecentlyExecutedCommandWithImplicitDF": {
     "commandId": 7285569162802535,
     "dataframes": [
      "_sqldf"
     ]
    },
    "pythonIndentUnit": 4
   },
   "notebookName": "common_functions",
   "widgets": {}
  },
  "language_info": {
   "name": "python"
  }
 },
 "nbformat": 4,
 "nbformat_minor": 0
}